{
  "nbformat": 4,
  "nbformat_minor": 0,
  "metadata": {
    "colab": {
      "name": "XGBoost Classification.ipynb",
      "provenance": [],
      "collapsed_sections": []
    },
    "kernelspec": {
      "name": "python3",
      "display_name": "Python 3"
    },
    "language_info": {
      "name": "python"
    }
  },
  "cells": [
    {
      "cell_type": "code",
      "source": [
        ""
      ],
      "metadata": {
        "id": "iQieX1gPbF00"
      },
      "execution_count": null,
      "outputs": []
    },
    {
      "cell_type": "code",
      "source": [
        "import numpy as np\n",
        "import pandas as pd\n",
        "import seaborn as sns\n",
        "import matplotlib.pyplot as plt\n",
        "from sklearn.ensemble import RandomForestClassifier\n",
        "\n",
        "from sklearn.model_selection import train_test_split\n",
        "from sklearn.model_selection import GridSearchCV\n",
        "from sklearn.preprocessing import MinMaxScaler\n",
        "from sklearn.preprocessing import StandardScaler\n",
        "from pandas import DataFrame\n",
        "from sklearn.metrics import accuracy_score,confusion_matrix\n",
        "from sklearn import metrics"
      ],
      "metadata": {
        "id": "2MsyKNuba9cL"
      },
      "execution_count": null,
      "outputs": []
    },
    {
      "cell_type": "code",
      "execution_count": null,
      "metadata": {
        "id": "0FU-2NnWW93Y",
        "colab": {
          "base_uri": "https://localhost:8080/"
        },
        "outputId": "ffc0cbbf-7276-4800-c770-e0425d2ddc83"
      },
      "outputs": [
        {
          "output_type": "stream",
          "name": "stdout",
          "text": [
            "(21,)\n",
            "(21, 2)\n",
            "(78,)\n",
            "(78, 2)\n",
            "(99, 2) (99,)\n"
          ]
        }
      ],
      "source": [
        "#1\n",
        "X1_test = np.array([ \n",
        "#cv01 \n",
        "[0.33448387, 0.66551613],\n",
        "[0.3064449, 0.6935551],\n",
        "[0.30618241, 0.69381759],\n",
        "[0.30540588, 0.69459412],\n",
        "[0.42192579, 0.57807421],\n",
        "[0.49944595, 0.50055405],\n",
        "[0.45608901, 0.54391099],\n",
        "#cv01 \n",
        "[0.35097434, 0.64902566],\n",
        "[0.27739249, 0.72260751],\n",
        "[0.2517753, 0.7482247],\n",
        "[0.31371926, 0.68628074],\n",
        "[0.44525506, 0.55474494],\n",
        "[0.45691735, 0.54308265],\n",
        "[0.46686269, 0.53313731],\n",
        "#cv01 \n",
        "[0.33965922, 0.66034078],\n",
        "[0.2372896, 0.7627104],\n",
        "[0.27599967, 0.72400033],\n",
        "[0.00244928, 0.99755072],\n",
        "[0.45929307, 0.54070693],\n",
        "[0.3860161, 0.6139839],\n",
        "[0.43226235, 0.56773765],\n",
        "])\n",
        "\n",
        "\n",
        "\n",
        "\n",
        "\n",
        "\n",
        "X1_train = np.array([\n",
        "#cv00 ----------\n",
        "[0.37684735, 0.62315265],\n",
        "[0.31433068, 0.68566932],\n",
        "[0.34917991, 0.65082009],\n",
        "[0.38638802, 0.61361198],\n",
        "[0.46125608, 0.53874392],\n",
        "[0.54300918, 0.45699082],\n",
        "[0.44137508, 0.55862492],\n",
        "\n",
        "\n",
        "\n",
        "#cv02 \n",
        "[0.24588067, 0.75411933],\n",
        "[0.28513779, 0.71486221],\n",
        "[0.19798666, 0.80201334],\n",
        "[0.23262388, 0.76737612],\n",
        "[0.46722981, 0.53277019],\n",
        "[0.35687209, 0.64312791],\n",
        "[0.44480019, 0.55519981],\n",
        "\n",
        "#cv03 \n",
        "[0.3184654, 0.6815346],\n",
        "[0.23024354, 0.76975646],\n",
        "[0.29866851, 0.70133149],\n",
        "[0.37412034, 0.62587966],\n",
        "[0.53548777, 0.46451223],\n",
        "[0.40209977, 0.59790023],\n",
        "[0.43802721, 0.56197279],\n",
        "\n",
        "#cv04 \n",
        "[0.24526329, 0.75473671],\n",
        "[0.29019426, 0.70980574],\n",
        "[0.2511269, 0.7488731],\n",
        "[0.47945659, 0.52054341],\n",
        "[0.4598958, 0.5401042],\n",
        "\n",
        "#cv00------------------ \n",
        "[0.43993766, 0.56006234],\n",
        "[0.30463934, 0.69536066],\n",
        "[0.34885659, 0.65114341],\n",
        "[0.36622032, 0.63377968],\n",
        "[0.29455952, 0.70544048],\n",
        "[0.48712304, 0.51287696],\n",
        "[0.41431194, 0.58568806],\n",
        "\n",
        "\n",
        "\n",
        "#cv02 \n",
        "[0.21676306, 0.78323694],\n",
        "[0.33697507, 0.66302493],\n",
        "[0.23519289, 0.76480711],\n",
        "[0.14706183, 0.85293817],\n",
        "[0.47753116, 0.52246884],\n",
        "[0.44427479, 0.55572521],\n",
        "[0.47104924, 0.52895076],\n",
        "\n",
        "#cv03 \n",
        "[0.30709024, 0.69290976],\n",
        "[0.28307038, 0.71692962],\n",
        "[0.30469869, 0.69530131],\n",
        "[0.3121355, 0.6878645],\n",
        "[0.55540038, 0.44459962],\n",
        "[0.42267253, 0.57732747],\n",
        "[0.37643752, 0.62356248],\n",
        "\n",
        "#cv04 \n",
        "[0.26375932, 0.73624068],\n",
        "[0.34887283, 0.65112717],\n",
        "[0.33261073, 0.66738927],\n",
        "[0.44919838, 0.55080162],\n",
        "[0.45499364, 0.54500636],\n",
        "\n",
        "#cv00-------------------- \n",
        "[0.38925648, 0.61074352],\n",
        "[0.2689387, 0.7310613],\n",
        "[0.36204735, 0.63795265],\n",
        "[0.35080186, 0.64919814],\n",
        "[0.49660747, 0.50339253],\n",
        "[0.4065728, 0.5934272],\n",
        "[0.3817819, 0.6182181],\n",
        "\n",
        "\n",
        "\n",
        "#cv02 \n",
        "[0.22154522, 0.77845478],\n",
        "[0.30656506, 0.69343494],\n",
        "[0.26573563, 0.73426437],\n",
        "[0.19641412, 0.80358588],\n",
        "[0.45348224, 0.54651776],\n",
        "[0.4083634, 0.5916366],\n",
        "[0.47673027, 0.52326973],\n",
        "\n",
        "#cv03 \n",
        "[0.29550165, 0.70449835],\n",
        "[0.16430038, 0.83569962],\n",
        "[0.31372991, 0.68627009],\n",
        "[0.40832684, 0.59167316],\n",
        "[0.43677967, 0.56322033],\n",
        "[0.56570647, 0.43429353],\n",
        "[0.50142397, 0.49857603],\n",
        "\n",
        "#cv04 \n",
        "[0.26331468, 0.73668532],\n",
        "[0.3044353, 0.6955647],\n",
        "[0.32590253, 0.67409747],\n",
        "[0.41677225, 0.58322775],\n",
        "[0.49941816, 0.50058184],\n",
        "])\n",
        "y1_train = np.array([    \n",
        "   1,1,1, 1, 0,0,0,   1,1,1, 1, 0,0,0,   1,1,1, 1, 0,0,0,   1,1,1, 0,0,\n",
        "   1,1,1, 1, 0,0,0,   1,1,1, 1, 0,0,0,   1,1,1, 1, 0,0,0,   1,1,1, 0,0,\n",
        "   1,1,1, 1, 0,0,0,   1,1,1, 1, 0,0,0,   1,1,1, 1, 0,0,0,   1,1,1, 0,0,\n",
        "])\n",
        "\n",
        "y1_test = np.array([ \n",
        "1,1,1, 1, 0,0,0,\n",
        "\n",
        "1,1,1, 1, 0,0,0,\n",
        "\n",
        "1,1,1, 1, 0,0,0,\n",
        "])\n",
        "\n",
        "X_train = X1_train\n",
        "X_test = X1_test\n",
        "y_train = y1_train\n",
        "y_test = y1_test \n",
        "X=np.concatenate((X_train, X_test))\n",
        "y=np.concatenate((y_train, y_test))\n",
        "print(y_test.shape)\n",
        "print(X_test.shape)\n",
        "print(y_train.shape)\n",
        "print(X_train.shape)\n",
        "print(X.shape, y.shape)"
      ]
    },
    {
      "cell_type": "code",
      "source": [
        ""
      ],
      "metadata": {
        "id": "U4wNuVjs0ovq"
      },
      "execution_count": null,
      "outputs": []
    },
    {
      "cell_type": "code",
      "source": [
        "'''\n",
        "scaler = MinMaxScaler()\n",
        "X_train = scaler.fit_transform(X_train)\n",
        "X_test = scaler.fit_transform(X_test)\n",
        "'''"
      ],
      "metadata": {
        "id": "6WUBYO1urJly",
        "colab": {
          "base_uri": "https://localhost:8080/",
          "height": 34
        },
        "outputId": "1b715737-bfc2-449b-897e-636f8c7dfb36"
      },
      "execution_count": null,
      "outputs": [
        {
          "output_type": "execute_result",
          "data": {
            "text/plain": [
              "'\\nscaler = MinMaxScaler()\\nX_train = scaler.fit_transform(X_train)\\nX_test = scaler.fit_transform(X_test)\\n'"
            ],
            "application/vnd.google.colaboratory.intrinsic+json": {
              "type": "string"
            }
          },
          "metadata": {},
          "execution_count": 4
        }
      ]
    },
    {
      "cell_type": "code",
      "source": [
        "!pip install xgboost"
      ],
      "metadata": {
        "colab": {
          "base_uri": "https://localhost:8080/"
        },
        "id": "0wnHy8lLrJiV",
        "outputId": "19f98c6d-9a97-46d6-d88d-06968edd884b"
      },
      "execution_count": null,
      "outputs": [
        {
          "output_type": "stream",
          "name": "stdout",
          "text": [
            "Requirement already satisfied: xgboost in /usr/local/lib/python3.7/dist-packages (0.90)\n",
            "Requirement already satisfied: numpy in /usr/local/lib/python3.7/dist-packages (from xgboost) (1.21.6)\n",
            "Requirement already satisfied: scipy in /usr/local/lib/python3.7/dist-packages (from xgboost) (1.4.1)\n"
          ]
        }
      ]
    },
    {
      "cell_type": "code",
      "source": [
        "import xgboost as xgb\n",
        "from xgboost import XGBClassifier"
      ],
      "metadata": {
        "id": "_23Q3G37rJeB"
      },
      "execution_count": null,
      "outputs": []
    },
    {
      "cell_type": "code",
      "source": [
        "XGB = XGBClassifier(objective='reg:squarederror')\n",
        "param = {'n_estimators': [10, 20, 30, 40, 44, 50, 52, 54, 57, 60, 70, 80, 90], \n",
        "        'learning_rate': [0.1, 0.01, 0.001, 0.0001, 1e-05, 1e-06, 1e-06, 1e-07, 1e-08, 1e-09, 1e-10,\n",
        " 1e-11,1e-12, 1e-13, 1e-14, 1e-15, 4e-05, 4e-06, 1e-06, 1e-07, 1e-08, 1e-09, 1e-10,\n",
        " 4e-11,4e-12,1e-12, 2e-12, 3e-12,5e-12, 6e-12, 7e-12, 8e-12, 9e-12, 4e-13, 4e-14, 4e-15],\n",
        "        'max_depth': [2, 3, 4, 5, 7]}\n",
        "xgb_reg = GridSearchCV(XGB, param, scoring='neg_mean_squared_error', cv=5)"
      ],
      "metadata": {
        "id": "COn5xFBIrJYm"
      },
      "execution_count": null,
      "outputs": []
    },
    {
      "cell_type": "code",
      "source": [
        "#xgb_reg.fit(X_train, y_train)\n",
        "xgb_reg.fit(X, y)\n",
        "xgb_reg.best_params_"
      ],
      "metadata": {
        "colab": {
          "base_uri": "https://localhost:8080/"
        },
        "id": "NZUjbVQWrJQS",
        "outputId": "f44a4444-74f8-4648-df9c-1113bf5c4925"
      },
      "execution_count": null,
      "outputs": [
        {
          "output_type": "execute_result",
          "data": {
            "text/plain": [
              "{'learning_rate': 1e-08, 'max_depth': 3, 'n_estimators': 10}"
            ]
          },
          "metadata": {},
          "execution_count": 15
        }
      ]
    },
    {
      "cell_type": "code",
      "source": [
        "xgb_model= XGBClassifier(n_estimators=97, learning_rate=0.01, max_depth=4)\n",
        "xgb_model.fit(X_train, y_train)\n",
        "xgb_accuracy = xgb_model.score(X_test,y_test)\n",
        "print('XGBoost Classifier Accuracy = ',(xgb_accuracy*100))\n",
        "\n",
        "\n",
        "\n",
        "xgb_pred = xgb_model.predict(X_test)\n",
        "cf_matrix = confusion_matrix(y_test,xgb_pred)\n",
        "\n",
        "total1=sum(sum(cf_matrix))\n",
        "accuracy1=(cf_matrix[0,0]+cf_matrix[1,1])/total1\n",
        "print ('Accuracy : ', accuracy1)\n",
        "sensitivity1 = cf_matrix[0,0]/(cf_matrix[0,0]+cf_matrix[0,1])\n",
        "print('Sensitivity : ', sensitivity1 )\n",
        "specificity1 = cf_matrix[1,1]/(cf_matrix[1,0]+cf_matrix[1,1])\n",
        "print('Specificity : ', specificity1)"
      ],
      "metadata": {
        "colab": {
          "base_uri": "https://localhost:8080/"
        },
        "id": "sR67DGoFrJGO",
        "outputId": "a6427265-d64c-4b60-b537-89fef725ec91"
      },
      "execution_count": null,
      "outputs": [
        {
          "output_type": "stream",
          "name": "stdout",
          "text": [
            "XGBoost Classifier Accuracy =  66.66666666666666\n",
            "Accuracy :  0.6666666666666666\n",
            "Sensitivity :  0.8888888888888888\n",
            "Specificity :  0.5\n"
          ]
        }
      ]
    },
    {
      "cell_type": "code",
      "source": [
        "xgb_pred = xgb_model.predict(X_test)\n",
        "cf_matrix = confusion_matrix(y_test,xgb_pred)\n",
        "cf_matrix = confusion_matrix(y_test,xgb_pred)\n",
        "print(xgb_pred)\n",
        "print(y_test)\n",
        "group_names = ['True Neg','False Pos','False Neg','True Pos']\n",
        "group_counts = ['{0:0.0f}'.format(value) for value in\n",
        "                cf_matrix.flatten()]\n",
        "group_percentages = ['{0:.2%}'.format(value) for value in\n",
        "                     cf_matrix.flatten()/np.sum(cf_matrix)]\n",
        "labels = [f'{v1}\\n{v2}\\n{v3} 'for v1, v2, v3 in\n",
        "          zip(group_names,group_counts,group_percentages)]\n",
        "labels = np.asarray(labels).reshape(2,2)\n",
        "sns.heatmap(cf_matrix, annot=labels, fmt='')"
      ],
      "metadata": {
        "colab": {
          "base_uri": "https://localhost:8080/",
          "height": 321
        },
        "id": "2s401OcRrhkN",
        "outputId": "55b25d77-a77d-4505-80ce-81803d7e9811"
      },
      "execution_count": null,
      "outputs": [
        {
          "output_type": "stream",
          "name": "stdout",
          "text": [
            "[0 1 0 1 0 0 0 0 1 1 0 1 0 0 0 1 1 0 0 0 0]\n",
            "[1 1 1 1 0 0 0 1 1 1 1 0 0 0 1 1 1 1 0 0 0]\n"
          ]
        },
        {
          "output_type": "execute_result",
          "data": {
            "text/plain": [
              "<matplotlib.axes._subplots.AxesSubplot at 0x7f03f9bca910>"
            ]
          },
          "metadata": {},
          "execution_count": 10
        },
        {
          "output_type": "display_data",
          "data": {
            "text/plain": [
              "<Figure size 432x288 with 2 Axes>"
            ],
            "image/png": "[encoded data removed]"
          },
          "metadata": {
            "needs_background": "light"
          }
        }
      ]
    }
  ]
}