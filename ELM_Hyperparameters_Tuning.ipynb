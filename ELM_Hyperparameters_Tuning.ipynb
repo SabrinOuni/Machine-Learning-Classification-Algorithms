{
  "nbformat": 4,
  "nbformat_minor": 0,
  "metadata": {
    "colab": {
      "name": "ELM Hyperparameters Tuning.ipynb",
      "provenance": [],
      "collapsed_sections": []
    },
    "kernelspec": {
      "name": "python3",
      "display_name": "Python 3"
    },
    "language_info": {
      "name": "python"
    }
  },
  "cells": [
    {
      "cell_type": "markdown",
      "source": [
        "# *Initialization*"
      ],
      "metadata": {
        "id": "sdTAdGtm2cCG"
      }
    },
    {
      "cell_type": "code",
      "source": [
        "\n",
        "!pip install 'fsspec>=0.3.3'\n",
        "!pip install scikit-learn==0.22.1\n",
        "!pip install scikit-elm==0.21a0"
      ],
      "metadata": {
        "colab": {
          "base_uri": "https://localhost:8080/"
        },
        "id": "-_NDgR5o54lA",
        "outputId": "ed72deda-5216-4c3e-ef2a-bdd4f0ea1e9c"
      },
      "execution_count": null,
      "outputs": [
        {
          "output_type": "stream",
          "name": "stdout",
          "text": [
            "Collecting fsspec>=0.3.3\n",
            "  Downloading fsspec-2022.3.0-py3-none-any.whl (136 kB)\n",
            "\u001b[?25l\r\u001b[K     |██▍                             | 10 kB 18.8 MB/s eta 0:00:01\r\u001b[K     |████▉                           | 20 kB 26.1 MB/s eta 0:00:01\r\u001b[K     |███████▎                        | 30 kB 15.3 MB/s eta 0:00:01\r\u001b[K     |█████████▋                      | 40 kB 11.4 MB/s eta 0:00:01\r\u001b[K     |████████████                    | 51 kB 6.9 MB/s eta 0:00:01\r\u001b[K     |██████████████▌                 | 61 kB 8.1 MB/s eta 0:00:01\r\u001b[K     |████████████████▉               | 71 kB 8.4 MB/s eta 0:00:01\r\u001b[K     |███████████████████▎            | 81 kB 7.6 MB/s eta 0:00:01\r\u001b[K     |█████████████████████▊          | 92 kB 8.4 MB/s eta 0:00:01\r\u001b[K     |████████████████████████        | 102 kB 7.5 MB/s eta 0:00:01\r\u001b[K     |██████████████████████████▌     | 112 kB 7.5 MB/s eta 0:00:01\r\u001b[K     |█████████████████████████████   | 122 kB 7.5 MB/s eta 0:00:01\r\u001b[K     |███████████████████████████████▎| 133 kB 7.5 MB/s eta 0:00:01\r\u001b[K     |████████████████████████████████| 136 kB 7.5 MB/s \n",
            "\u001b[?25hInstalling collected packages: fsspec\n",
            "Successfully installed fsspec-2022.3.0\n",
            "Collecting scikit-learn==0.22.1\n",
            "  Downloading scikit_learn-0.22.1-cp37-cp37m-manylinux1_x86_64.whl (7.0 MB)\n",
            "\u001b[K     |████████████████████████████████| 7.0 MB 4.2 MB/s \n",
            "\u001b[?25hRequirement already satisfied: scipy>=0.17.0 in /usr/local/lib/python3.7/dist-packages (from scikit-learn==0.22.1) (1.4.1)\n",
            "Requirement already satisfied: joblib>=0.11 in /usr/local/lib/python3.7/dist-packages (from scikit-learn==0.22.1) (1.1.0)\n",
            "Requirement already satisfied: numpy>=1.11.0 in /usr/local/lib/python3.7/dist-packages (from scikit-learn==0.22.1) (1.21.6)\n",
            "Installing collected packages: scikit-learn\n",
            "  Attempting uninstall: scikit-learn\n",
            "    Found existing installation: scikit-learn 1.0.2\n",
            "    Uninstalling scikit-learn-1.0.2:\n",
            "      Successfully uninstalled scikit-learn-1.0.2\n",
            "\u001b[31mERROR: pip's dependency resolver does not currently take into account all the packages that are installed. This behaviour is the source of the following dependency conflicts.\n",
            "yellowbrick 1.4 requires scikit-learn>=1.0.0, but you have scikit-learn 0.22.1 which is incompatible.\n",
            "imbalanced-learn 0.8.1 requires scikit-learn>=0.24, but you have scikit-learn 0.22.1 which is incompatible.\u001b[0m\n",
            "Successfully installed scikit-learn-0.22.1\n",
            "Collecting scikit-elm==0.21a0\n",
            "  Downloading scikit_elm-0.21a0-py3-none-any.whl (30 kB)\n",
            "Requirement already satisfied: scipy in /usr/local/lib/python3.7/dist-packages (from scikit-elm==0.21a0) (1.4.1)\n",
            "Requirement already satisfied: scikit-learn in /usr/local/lib/python3.7/dist-packages (from scikit-elm==0.21a0) (0.22.1)\n",
            "Requirement already satisfied: numpy in /usr/local/lib/python3.7/dist-packages (from scikit-elm==0.21a0) (1.21.6)\n",
            "Requirement already satisfied: joblib>=0.11 in /usr/local/lib/python3.7/dist-packages (from scikit-learn->scikit-elm==0.21a0) (1.1.0)\n",
            "Installing collected packages: scikit-elm\n",
            "Successfully installed scikit-elm-0.21a0\n"
          ]
        }
      ]
    },
    {
      "cell_type": "code",
      "source": [
        "import numpy as np\n",
        "import pandas as pd\n",
        "import seaborn as sns\n",
        "import matplotlib.pyplot as plt\n",
        "\n",
        "\n",
        "from sklearn.model_selection import train_test_split\n",
        "from sklearn.model_selection import GridSearchCV\n",
        "from sklearn.preprocessing import MinMaxScaler\n",
        "from sklearn.preprocessing import StandardScaler\n",
        "from pandas import DataFrame\n",
        "from sklearn.metrics import accuracy_score,confusion_matrix\n",
        "from sklearn import metrics"
      ],
      "metadata": {
        "id": "2srQKllktWiT"
      },
      "execution_count": null,
      "outputs": []
    },
    {
      "cell_type": "markdown",
      "source": [
        "# *Data preparing*"
      ],
      "metadata": {
        "id": "Se_ycvCy2re4"
      }
    },
    {
      "cell_type": "code",
      "source": [
        "#1\n",
        "X1_test = np.array([ \n",
        "#cv01 \n",
        "[0.33448387, 0.66551613],\n",
        "[0.3064449, 0.6935551],\n",
        "[0.30618241, 0.69381759],\n",
        "[0.30540588, 0.69459412],\n",
        "[0.42192579, 0.57807421],\n",
        "[0.49944595, 0.50055405],\n",
        "[0.45608901, 0.54391099],\n",
        "#cv01 \n",
        "[0.35097434, 0.64902566],\n",
        "[0.27739249, 0.72260751],\n",
        "[0.2517753, 0.7482247],\n",
        "[0.31371926, 0.68628074],\n",
        "[0.44525506, 0.55474494],\n",
        "[0.45691735, 0.54308265],\n",
        "[0.46686269, 0.53313731],\n",
        "#cv01 \n",
        "[0.33965922, 0.66034078],\n",
        "[0.2372896, 0.7627104],\n",
        "[0.27599967, 0.72400033],\n",
        "[0.00244928, 0.99755072],\n",
        "[0.45929307, 0.54070693],\n",
        "[0.3860161, 0.6139839],\n",
        "[0.43226235, 0.56773765],\n",
        "])\n",
        "\n",
        "\n",
        "\n",
        "\n",
        "\n",
        "\n",
        "X1_train = np.array([\n",
        "#cv00 ----------\n",
        "[0.37684735, 0.62315265],\n",
        "[0.31433068, 0.68566932],\n",
        "[0.34917991, 0.65082009],\n",
        "[0.38638802, 0.61361198],\n",
        "[0.46125608, 0.53874392],\n",
        "[0.54300918, 0.45699082],\n",
        "[0.44137508, 0.55862492],\n",
        "\n",
        "\n",
        "\n",
        "#cv02 \n",
        "[0.24588067, 0.75411933],\n",
        "[0.28513779, 0.71486221],\n",
        "[0.19798666, 0.80201334],\n",
        "[0.23262388, 0.76737612],\n",
        "[0.46722981, 0.53277019],\n",
        "[0.35687209, 0.64312791],\n",
        "[0.44480019, 0.55519981],\n",
        "\n",
        "#cv03 \n",
        "[0.3184654, 0.6815346],\n",
        "[0.23024354, 0.76975646],\n",
        "[0.29866851, 0.70133149],\n",
        "[0.37412034, 0.62587966],\n",
        "[0.53548777, 0.46451223],\n",
        "[0.40209977, 0.59790023],\n",
        "[0.43802721, 0.56197279],\n",
        "\n",
        "#cv04 \n",
        "[0.24526329, 0.75473671],\n",
        "[0.29019426, 0.70980574],\n",
        "[0.2511269, 0.7488731],\n",
        "[0.47945659, 0.52054341],\n",
        "[0.4598958, 0.5401042],\n",
        "\n",
        "#cv00------------------ \n",
        "[0.43993766, 0.56006234],\n",
        "[0.30463934, 0.69536066],\n",
        "[0.34885659, 0.65114341],\n",
        "[0.36622032, 0.63377968],\n",
        "[0.29455952, 0.70544048],\n",
        "[0.48712304, 0.51287696],\n",
        "[0.41431194, 0.58568806],\n",
        "\n",
        "\n",
        "\n",
        "#cv02 \n",
        "[0.21676306, 0.78323694],\n",
        "[0.33697507, 0.66302493],\n",
        "[0.23519289, 0.76480711],\n",
        "[0.14706183, 0.85293817],\n",
        "[0.47753116, 0.52246884],\n",
        "[0.44427479, 0.55572521],\n",
        "[0.47104924, 0.52895076],\n",
        "\n",
        "#cv03 \n",
        "[0.30709024, 0.69290976],\n",
        "[0.28307038, 0.71692962],\n",
        "[0.30469869, 0.69530131],\n",
        "[0.3121355, 0.6878645],\n",
        "[0.55540038, 0.44459962],\n",
        "[0.42267253, 0.57732747],\n",
        "[0.37643752, 0.62356248],\n",
        "\n",
        "#cv04 \n",
        "[0.26375932, 0.73624068],\n",
        "[0.34887283, 0.65112717],\n",
        "[0.33261073, 0.66738927],\n",
        "[0.44919838, 0.55080162],\n",
        "[0.45499364, 0.54500636],\n",
        "\n",
        "#cv00-------------------- \n",
        "[0.38925648, 0.61074352],\n",
        "[0.2689387, 0.7310613],\n",
        "[0.36204735, 0.63795265],\n",
        "[0.35080186, 0.64919814],\n",
        "[0.49660747, 0.50339253],\n",
        "[0.4065728, 0.5934272],\n",
        "[0.3817819, 0.6182181],\n",
        "\n",
        "\n",
        "\n",
        "#cv02 \n",
        "[0.22154522, 0.77845478],\n",
        "[0.30656506, 0.69343494],\n",
        "[0.26573563, 0.73426437],\n",
        "[0.19641412, 0.80358588],\n",
        "[0.45348224, 0.54651776],\n",
        "[0.4083634, 0.5916366],\n",
        "[0.47673027, 0.52326973],\n",
        "\n",
        "#cv03 \n",
        "[0.29550165, 0.70449835],\n",
        "[0.16430038, 0.83569962],\n",
        "[0.31372991, 0.68627009],\n",
        "[0.40832684, 0.59167316],\n",
        "[0.43677967, 0.56322033],\n",
        "[0.56570647, 0.43429353],\n",
        "[0.50142397, 0.49857603],\n",
        "\n",
        "#cv04 \n",
        "[0.26331468, 0.73668532],\n",
        "[0.3044353, 0.6955647],\n",
        "[0.32590253, 0.67409747],\n",
        "[0.41677225, 0.58322775],\n",
        "[0.49941816, 0.50058184],\n",
        "])\n",
        "y1_train = np.array([    \n",
        "   1,1,1, 1, 0,0,0,   1,1,1, 1, 0,0,0,   1,1,1, 1, 0,0,0,   1,1,1, 0,0,\n",
        "   1,1,1, 1, 0,0,0,   1,1,1, 1, 0,0,0,   1,1,1, 1, 0,0,0,   1,1,1, 0,0,\n",
        "   1,1,1, 1, 0,0,0,   1,1,1, 1, 0,0,0,   1,1,1, 1, 0,0,0,   1,1,1, 0,0,\n",
        "])\n",
        "\n",
        "y1_test = np.array([ \n",
        "1,1,1, 1, 0,0,0,\n",
        "\n",
        "1,1,1, 1, 0,0,0,\n",
        "\n",
        "1,1,1, 1, 0,0,0,\n",
        "])\n",
        "\n",
        "X_train = X1_train\n",
        "X_test = X1_test\n",
        "y_train = y1_train\n",
        "y_test = y1_test \n",
        "X=np.concatenate((X_train, X_test))\n",
        "y=np.concatenate((y_train, y_test))\n",
        "print(y_test.shape)\n",
        "print(X_test.shape)\n",
        "print(y_train.shape)\n",
        "print(X_train.shape)\n",
        "print(X.shape, y.shape)"
      ],
      "metadata": {
        "id": "evQ2pWDWtWe_",
        "colab": {
          "base_uri": "https://localhost:8080/"
        },
        "outputId": "53874999-7959-4f08-dd15-432a18a9b855"
      },
      "execution_count": null,
      "outputs": [
        {
          "output_type": "stream",
          "name": "stdout",
          "text": [
            "(21,)\n",
            "(21, 2)\n",
            "(78,)\n",
            "(78, 2)\n",
            "(99, 2) (99,)\n"
          ]
        }
      ]
    },
    {
      "cell_type": "code",
      "source": [
        "#splitting the data into train and test\n",
        "X_train, X_test, y_train, y_test = train_test_split(X,y, test_size=0.3, random_state=5)\n",
        "\n",
        "\n",
        "##\n",
        "scaler = MinMaxScaler()\n",
        "X_train = scaler.fit_transform(X_train)\n",
        "X_test = scaler.fit_transform(X_test)"
      ],
      "metadata": {
        "id": "mXl2uRC_tWbR"
      },
      "execution_count": null,
      "outputs": []
    },
    {
      "cell_type": "markdown",
      "source": [
        "# ***Extreme learning machine model***"
      ],
      "metadata": {
        "id": "mqmnyNSg3NAp"
      }
    },
    {
      "cell_type": "code",
      "source": [
        "#install the needed lib\n",
        "'''\n",
        "!pip install scikit-elm==0.21a0\n",
        "!pip install 'fsspec>=0.3.3'\n",
        "'''"
      ],
      "metadata": {
        "colab": {
          "base_uri": "https://localhost:8080/",
          "height": 34
        },
        "id": "m3v9yW563MO3",
        "outputId": "f4615071-961a-486a-a3cc-3eb966de7b95"
      },
      "execution_count": null,
      "outputs": [
        {
          "output_type": "execute_result",
          "data": {
            "text/plain": [
              "\"\\n!pip install scikit-elm==0.21a0\\n!pip install 'fsspec>=0.3.3'\\n\""
            ],
            "application/vnd.google.colaboratory.intrinsic+json": {
              "type": "string"
            }
          },
          "metadata": {},
          "execution_count": 17
        }
      ]
    },
    {
      "cell_type": "code",
      "source": [
        "from skelm import ELMClassifier\n",
        "from sklearn.model_selection import cross_val_score\n",
        "from sklearn.model_selection import cross_validate\n",
        "from sklearn.model_selection import KFold"
      ],
      "metadata": {
        "id": "d_9-nQD5osvG"
      },
      "execution_count": null,
      "outputs": []
    },
    {
      "cell_type": "markdown",
      "source": [
        "## ***Grid search for best Hyper parameters***"
      ],
      "metadata": {
        "id": "C408KcyK3uRf"
      }
    },
    {
      "cell_type": "code",
      "source": [
        "\n",
        "\n",
        "ELM = ELMClassifier()\n",
        "param = {'n_neurons':[20,28, 29, 30, 33, 34, 35, 36, 39, 40, 41, 42, 50, 51, 52, 53, 54, 55, 56, 57, 58, 59, 60, 68, 69, 70, 73, 74, 75, 76, 77, 78, 79, 80, 81, 82, 83, 84, 85, 86, 87, 88, 89, 90, 91, 92, 93, 94, 95, 96, 97, 98, 99, 100],\n",
        "         'alpha':[0.1, 0.01, 0.001, 0.0001, 1e-05, 1e-06, 1e-06, 1e-07, 1e-08, 1e-09, 1e-10,\n",
        " 1e-11,1e-12, 1e-13, 1e-14, 1e-15, 4e-05, 4e-06, 1e-06, 1e-07, 1e-08, 1e-09, 1e-10,\n",
        " 4e-11,4e-12,1e-12, 2e-12, 3e-12,5e-12, 6e-12, 7e-12, 8e-12, 9e-12, 4e-13, 4e-14, 4e-15],\n",
        "         'ufunc':['sigm','relu']}#'sigm','tanh',\n",
        "ELM_reg = GridSearchCV(ELM, param, cv=5)\n",
        "ELM_reg.fit(X_train, y_train)\n",
        "##ELM_reg.fit(X, y)\n",
        "ELM_reg.best_params_\n"
      ],
      "metadata": {
        "id": "XqT7rVwA3kPk",
        "colab": {
          "base_uri": "https://localhost:8080/"
        },
        "outputId": "a605ed76-e293-4246-a98a-91d1dbe54d6b"
      },
      "execution_count": null,
      "outputs": [
        {
          "output_type": "execute_result",
          "data": {
            "text/plain": [
              "{'alpha': 0.1, 'n_neurons': 30, 'ufunc': 'sigm'}"
            ]
          },
          "metadata": {},
          "execution_count": 19
        }
      ]
    },
    {
      "cell_type": "markdown",
      "source": [
        "# **BEST HYPER PARAMETER ARE HERE**"
      ],
      "metadata": {
        "id": "AJLkUmfY14Dx"
      }
    },
    {
      "cell_type": "code",
      "source": [
        "\n",
        "scores = cross_val_score(ELM, X_train, y_train, cv=10)\n",
        "scores\n",
        "print(\"%0.2f accuracy with a standard deviation of %0.2f\" % (scores.mean(), scores.std()))"
      ],
      "metadata": {
        "colab": {
          "base_uri": "https://localhost:8080/"
        },
        "id": "7hKtDkWcwqnI",
        "outputId": "d4f58c74-5f2e-4a52-e66f-513ddfee0db5"
      },
      "execution_count": null,
      "outputs": [
        {
          "output_type": "stream",
          "name": "stdout",
          "text": [
            "0.93 accuracy with a standard deviation of 0.07\n"
          ]
        }
      ]
    },
    {
      "cell_type": "code",
      "source": [
        "ELM = ELMClassifier()\n",
        "param = {'n_neurons':[78,70, 90, 82, 93, 94,100,110, 90],\n",
        "         'alpha':[9e-12, 1e-12, 4e-13, 2.4e-12, 1e-5, 1e-10],\n",
        "         'ufunc':['relu']}\n",
        "ELM_reg = GridSearchCV(ELM, param, cv=5)\n",
        "ELM_reg.fit(X_train, y_train)\n",
        "print(ELM_reg.best_params_)\n",
        "print(ELM_reg.best_score_)"
      ],
      "metadata": {
        "id": "C1Pa8EAGosmH",
        "colab": {
          "base_uri": "https://localhost:8080/"
        },
        "outputId": "26a896e5-ebaa-47d3-aa7b-2908eb12e532"
      },
      "execution_count": null,
      "outputs": [
        {
          "output_type": "stream",
          "name": "stdout",
          "text": [
            "{'alpha': 4e-13, 'n_neurons': 78, 'ufunc': 'relu'}\n",
            "0.956043956043956\n"
          ]
        }
      ]
    },
    {
      "cell_type": "markdown",
      "source": [
        "## ELM Classifier"
      ],
      "metadata": {
        "id": "l_YoRczw3_qB"
      }
    },
    {
      "cell_type": "code",
      "source": [
        "ELM_model = ELMClassifier(alpha=2.4e-12, n_neurons=100, ufunc='relu')\n",
        "# 9e-12, 'n_neurons': 91, 'ufunc': 'relu'{'alpha': 4e-13, 'n_neurons': 43, 'ufunc': 'relu'}\n",
        "ELM_model.fit(X_train,y_train)\n",
        "ELM_accuracy = ELM_model.score(X_test,y_test)\n",
        "\n",
        "print('ELM Classifier Accuracy = ',(ELM_accuracy*100))\n",
        "ELM_pred = ELM_model.predict(X_test)\n",
        "cf_matrix = confusion_matrix(y_test,ELM_pred)\n",
        "total1=sum(sum(cf_matrix))\n",
        "accuracy1=(cf_matrix[0,0]+cf_matrix[1,1])/total1\n",
        "print ('Accuracy : ', accuracy1)\n",
        "sensitivity1 = cf_matrix[0,0]/(cf_matrix[0,0]+cf_matrix[0,1])\n",
        "print('Sensitivity : ', sensitivity1 )\n",
        "specificity1 = cf_matrix[1,1]/(cf_matrix[1,0]+cf_matrix[1,1])\n",
        "print('Specificity : ', specificity1)"
      ],
      "metadata": {
        "id": "qYikVJQvoscR",
        "colab": {
          "base_uri": "https://localhost:8080/"
        },
        "outputId": "4a795e00-e6dd-4733-b1b9-d81e75f77806"
      },
      "execution_count": null,
      "outputs": [
        {
          "output_type": "stream",
          "name": "stdout",
          "text": [
            "ELM Classifier Accuracy =  85.71428571428571\n",
            "Accuracy :  0.8571428571428571\n",
            "Sensitivity :  1.0\n",
            "Specificity :  0.75\n"
          ]
        }
      ]
    },
    {
      "cell_type": "code",
      "source": [
        "ELM_pred = ELM_model.predict(X_test)\n",
        "cf_matrix = confusion_matrix(y_test,ELM_pred)\n",
        "total1=sum(sum(cf_matrix))\n",
        "accuracy1=(cf_matrix[0,0]+cf_matrix[1,1])/total1\n",
        "print ('Accuracy : ', accuracy1)\n",
        "sensitivity1 = cf_matrix[0,0]/(cf_matrix[0,0]+cf_matrix[0,1])\n",
        "print('Sensitivity : ', sensitivity1 )\n",
        "specificity1 = cf_matrix[1,1]/(cf_matrix[1,0]+cf_matrix[1,1])\n",
        "print('Specificity : ', specificity1)\n",
        "print(ELM_pred)\n",
        "print(y_test)\n",
        "group_names = ['True Neg','False Pos','False Neg','True Pos']\n",
        "group_counts = ['{0:0.0f}'.format(value) for value in\n",
        "                cf_matrix.flatten()]\n",
        "group_percentages = ['{0:.2%}'.format(value) for value in\n",
        "                     cf_matrix.flatten()/np.sum(cf_matrix)]\n",
        "labels = [f'{v1}\\n{v2}\\n{v3} 'for v1, v2, v3 in\n",
        "          zip(group_names,group_counts,group_percentages)]\n",
        "labels = np.asarray(labels).reshape(2,2)\n",
        "sns.heatmap(cf_matrix, annot=labels, fmt='')"
      ],
      "metadata": {
        "id": "u42zqHsM4Nlf",
        "colab": {
          "base_uri": "https://localhost:8080/",
          "height": 373
        },
        "outputId": "28587c00-4d9c-4bf0-9dc1-0db6b693e273"
      },
      "execution_count": null,
      "outputs": [
        {
          "output_type": "stream",
          "name": "stdout",
          "text": [
            "Accuracy :  0.8571428571428571\n",
            "Sensitivity :  1.0\n",
            "Specificity :  0.75\n",
            "[0 1 1 1 0 0 0]\n",
            "[1 1 1 1 0 0 0]\n"
          ]
        },
        {
          "output_type": "execute_result",
          "data": {
            "text/plain": [
              "<matplotlib.axes._subplots.AxesSubplot at 0x7f19c045af50>"
            ]
          },
          "metadata": {},
          "execution_count": 11
        },
        {
          "output_type": "display_data",
          "data": {
            "text/plain": [
              "<Figure size 432x288 with 2 Axes>"
            ],
            "image/png": "[encoded data removed]"
          },
          "metadata": {
            "needs_background": "light"
          }
        }
      ]
    }
  ]
}