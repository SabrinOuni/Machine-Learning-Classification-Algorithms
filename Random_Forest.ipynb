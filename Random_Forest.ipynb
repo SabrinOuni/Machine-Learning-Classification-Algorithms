{
  "cells": [
    {
      "cell_type": "markdown",
      "metadata": {
        "id": "YuYEBNGXnKKV"
      },
      "source": [
        "# Valeurs Optimale "
      ]
    },
    {
      "cell_type": "code",
      "execution_count": null,
      "metadata": {
        "id": "tC_g7pjPnKKd",
        "outputId": "9666adac-e2ee-4647-8772-a2d2de0d92e9"
      },
      "outputs": [
        {
          "name": "stdout",
          "output_type": "stream",
          "text": [
            "Fitting 2 folds for each of 1800 candidates, totalling 3600 fits\n"
          ]
        },
        {
          "name": "stderr",
          "output_type": "stream",
          "text": [
            "[Parallel(n_jobs=-1)]: Using backend LokyBackend with 4 concurrent workers.\n",
            "[Parallel(n_jobs=-1)]: Done  42 tasks      | elapsed:   16.2s\n",
            "[Parallel(n_jobs=-1)]: Done 192 tasks      | elapsed:  1.1min\n",
            "[Parallel(n_jobs=-1)]: Done 442 tasks      | elapsed:  2.6min\n",
            "[Parallel(n_jobs=-1)]: Done 792 tasks      | elapsed:  3.6min\n",
            "[Parallel(n_jobs=-1)]: Done 1242 tasks      | elapsed:  5.7min\n",
            "[Parallel(n_jobs=-1)]: Done 1792 tasks      | elapsed:  7.7min\n",
            "[Parallel(n_jobs=-1)]: Done 2442 tasks      | elapsed: 10.0min\n",
            "[Parallel(n_jobs=-1)]: Done 3192 tasks      | elapsed: 12.8min\n",
            "[Parallel(n_jobs=-1)]: Done 3600 out of 3600 | elapsed: 13.9min finished\n"
          ]
        },
        {
          "name": "stdout",
          "output_type": "stream",
          "text": [
            "Best parameters found:\n",
            " {'max_depth': 6, 'max_features': 1, 'min_samples_leaf': 1, 'min_samples_split': 4, 'n_estimators': 300}\n",
            "0.9615384615384615\n",
            "\n"
          ]
        }
      ],
      "source": [
        "#Valeur optimal RF\n",
        "\n",
        "import numpy as np\n",
        "import matplotlib.pyplot as plt\n",
        "from matplotlib.colors import Normalize\n",
        "from sklearn import svm\n",
        "\n",
        "from sklearn.svm import SVC\n",
        "from sklearn.preprocessing import StandardScaler\n",
        "from sklearn.datasets import load_iris\n",
        "from sklearn.model_selection import StratifiedShuffleSplit\n",
        "from sklearn.model_selection import GridSearchCV\n",
        "from sklearn import datasets\n",
        "from sklearn.model_selection import train_test_split\n",
        "from sklearn.model_selection import GridSearchCV\n",
        "from sklearn.metrics import classification_report\n",
        "\n",
        "from sklearn.model_selection import cross_val_score\n",
        "from sklearn.model_selection import cross_validate\n",
        "from sklearn.model_selection import KFold\n",
        "\n",
        "#from sklearn.model_selection import cross_validate\n",
        "\n",
        "from sklearn.model_selection import KFold\n",
        "import numpy as np\n",
        "import matplotlib.pyplot as plt\n",
        "import pandas as pd\n",
        "\n",
        "\n",
        "from sklearn.model_selection import train_test_split\n",
        "from sklearn.preprocessing import StandardScaler\n",
        "\n",
        "from sklearn.neighbors import KNeighborsClassifier\n",
        "from sklearn.metrics import classification_report, confusion_matrix\n",
        "from sklearn.model_selection import cross_val_score\n",
        "from sklearn.model_selection import GridSearchCV\n",
        "from sklearn.neural_network import MLPClassifier\n",
        "from sklearn.ensemble import RandomForestClassifier\n",
        "import pickle\n",
        "\n",
        "\n",
        "\n",
        "#0\n",
        "X1_test = np.array([ \n",
        "\n",
        "#cv00-------------------- \n",
        "[0.28925648, 0.61074352],\n",
        "[0.2689387, 0.7310613],\n",
        "[0.30204735, 0.63795265],\n",
        "[0.30080186, 0.64919814],\n",
        "[0.49660747, 0.50339253],\n",
        "[0.4065728, 0.5934272],\n",
        "[0.3817819, 0.6182181],\n",
        "#cv00------------------ \n",
        "[0.39993766, 0.69006234],\n",
        "[0.30463934, 0.69536066],\n",
        "[0.34885659, 0.65114341],\n",
        "[0.30622032, 0.63377968],\n",
        "[0.41455952, 0.60544048],\n",
        "[0.48712304, 0.51287696],\n",
        "[0.48431194, 0.58568806],\n",
        "#cv00 ----------\n",
        "[0.37684735, 0.62315265],\n",
        "[0.31433068, 0.68566932],\n",
        "[0.34917991, 0.65082009],\n",
        "[0.38638802, 0.61361198],\n",
        "[0.46125608, 0.53874392],\n",
        "[0.54300918, 0.45699082],\n",
        "[0.44137508, 0.55862492],\n",
        "\n",
        "])\n",
        "\n",
        "\n",
        "\n",
        "\n",
        "\n",
        "\n",
        "X1_train = np.array([\n",
        "\n",
        "\n",
        "#cv01 \n",
        "[0.33448387, 0.66551613],\n",
        "[0.3064449, 0.6935551],\n",
        "[0.30618241, 0.69381759],\n",
        "[0.30540588, 0.69459412],\n",
        "[0.42192579, 0.57807421],\n",
        "[0.49944595, 0.50055405],\n",
        "[0.45608901, 0.54391099],\n",
        "\n",
        "#cv02 \n",
        "[0.24588067, 0.75411933],\n",
        "[0.28513779, 0.71486221],\n",
        "[0.19798666, 0.80201334],\n",
        "[0.23262388, 0.76737612],\n",
        "[0.46722981, 0.53277019],\n",
        "[0.35687209, 0.64312791],\n",
        "[0.44480019, 0.55519981],\n",
        "\n",
        "#cv03 \n",
        "[0.3184654, 0.6815346],\n",
        "[0.23024354, 0.76975646],\n",
        "[0.29866851, 0.70133149],\n",
        "[0.37412034, 0.62587966],\n",
        "[0.53548777, 0.46451223],\n",
        "[0.40209977, 0.59790023],\n",
        "[0.43802721, 0.56197279],\n",
        "\n",
        "#cv04 \n",
        "[0.24526329, 0.75473671],\n",
        "[0.29019426, 0.70980574],\n",
        "[0.2511269, 0.7488731],\n",
        "[0.47945659, 0.52054341],\n",
        "[0.4598958, 0.5401042],\n",
        "\n",
        "\n",
        "\n",
        "\n",
        "#cv01 \n",
        "[0.35097434, 0.64902566],\n",
        "[0.27739249, 0.72260751],\n",
        "[0.2517753, 0.7482247],\n",
        "[0.31371926, 0.68628074],\n",
        "[0.44525506, 0.55474494],\n",
        "[0.45691735, 0.54308265],\n",
        "[0.46686269, 0.53313731],\n",
        "#cv02 \n",
        "[0.21676306, 0.78323694],\n",
        "[0.33697507, 0.66302493],\n",
        "[0.23519289, 0.76480711],\n",
        "[0.14706183, 0.85293817],\n",
        "[0.47753116, 0.52246884],\n",
        "[0.44427479, 0.55572521],\n",
        "[0.47104924, 0.52895076],\n",
        "\n",
        "#cv03 \n",
        "[0.30709024, 0.69290976],\n",
        "[0.28307038, 0.71692962],\n",
        "[0.30469869, 0.69530131],\n",
        "[0.3121355, 0.6878645],\n",
        "[0.55540038, 0.44459962],\n",
        "[0.42267253, 0.57732747],\n",
        "[0.37643752, 0.62356248],\n",
        "\n",
        "#cv04 \n",
        "[0.26375932, 0.73624068],\n",
        "[0.34887283, 0.65112717],\n",
        "[0.33261073, 0.66738927],\n",
        "[0.44919838, 0.55080162],\n",
        "[0.45499364, 0.54500636],\n",
        "\n",
        "\n",
        "\n",
        "\n",
        "#cv01 \n",
        "[0.33965922, 0.66034078],\n",
        "[0.2372896, 0.7627104],\n",
        "[0.27599967, 0.72400033],\n",
        "[0.00244928, 0.99755072],\n",
        "[0.45929307, 0.54070693],\n",
        "[0.3860161, 0.6139839],\n",
        "[0.43226235, 0.56773765],\n",
        "#cv02 \n",
        "[0.22154522, 0.77845478],\n",
        "[0.30656506, 0.69343494],\n",
        "[0.26573563, 0.73426437],\n",
        "[0.19641412, 0.80358588],\n",
        "[0.45348224, 0.54651776],\n",
        "[0.4083634, 0.5916366],\n",
        "[0.47673027, 0.52326973],\n",
        "\n",
        "#cv03 \n",
        "[0.29550165, 0.70449835],\n",
        "[0.16430038, 0.83569962],\n",
        "[0.31372991, 0.68627009],\n",
        "[0.40832684, 0.59167316],\n",
        "[0.43677967, 0.56322033],\n",
        "[0.56570647, 0.43429353],\n",
        "[0.50142397, 0.49857603],\n",
        "\n",
        "#cv04 \n",
        "[0.26331468, 0.73668532],\n",
        "[0.3044353, 0.6955647],\n",
        "[0.32590253, 0.67409747],\n",
        "[0.41677225, 0.58322775],\n",
        "[0.49941816, 0.50058184],\n",
        "])\n",
        "y1_train = np.array([    \n",
        "   1,1,1, 1, 0,0,0,   1,1,1, 1, 0,0,0,   1,1,1, 1, 0,0,0,   1,1,1, 0,0,\n",
        "   1,1,1, 1, 0,0,0,   1,1,1, 1, 0,0,0,   1,1,1, 1, 0,0,0,   1,1,1, 0,0,\n",
        "   1,1,1, 1, 0,0,0,   1,1,1, 1, 0,0,0,   1,1,1, 1, 0,0,0,   1,1,1, 0,0,\n",
        "])\n",
        "\n",
        "y1_test = np.array([ \n",
        "1,1,1, 1, 0,0,0,\n",
        "\n",
        "1,1,1, 1, 0,0,0,\n",
        "\n",
        "1,1,1, 1, 0,0,0,\n",
        "])\n",
        "\n",
        "X_train = X1_train\n",
        "X_test = X1_test\n",
        "y_train = y1_train\n",
        "y_test = y1_test \n",
        "'''\n",
        "X=np.concatenate((X_train, X_test))\n",
        "y=np.concatenate((y_train, y_test))\n",
        "print(y_test.shape)\n",
        "print(X_test.shape)\n",
        "print(y_train.shape)\n",
        "print(X_train.shape)\n",
        "print(X.shape, y.shape)\n",
        "\n",
        "'''\n",
        "\n",
        "\n",
        "\n",
        "\n",
        "\n",
        "\n",
        "\n",
        "                   \n",
        "   \n",
        "    \n",
        "    \n",
        "rf = RandomForestClassifier()\n",
        "n_estimators = [100, 200,300,400,500, 700]\n",
        "max_depth = [6, 8,10,12,14]\n",
        "min_samples_split = [3, 4, 5,6]\n",
        "min_samples_leaf = [1, 2,3,4, 5]\n",
        "max_features = [1, 2, 3]\n",
        "\n",
        "hyperF = dict(n_estimators = n_estimators, max_depth = max_depth,  \n",
        "              min_samples_split = min_samples_split, \n",
        "             min_samples_leaf = min_samples_leaf,max_features = max_features)\n",
        "\n",
        "gridF = GridSearchCV(rf, hyperF, cv = 2, verbose = 1, \n",
        "                      n_jobs = -1)\n",
        "bestF = gridF.fit(X_train, y_train)\n",
        "\n",
        "print('Best parameters found:\\n', gridF.best_params_)\n",
        "print(gridF.best_score_)\n",
        "print()\n",
        "\n"
      ]
    },
    {
      "cell_type": "code",
      "execution_count": null,
      "metadata": {
        "id": "0Bg5B_HrnKKj",
        "outputId": "3309d98a-95d6-4b9d-94e0-1314693b5869"
      },
      "outputs": [
        {
          "name": "stdout",
          "output_type": "stream",
          "text": [
            "Fitting 2 folds for each of 1800 candidates, totalling 3600 fits\n"
          ]
        },
        {
          "name": "stderr",
          "output_type": "stream",
          "text": [
            "[Parallel(n_jobs=-1)]: Using backend LokyBackend with 4 concurrent workers.\n",
            "[Parallel(n_jobs=-1)]: Done  42 tasks      | elapsed:   12.0s\n",
            "[Parallel(n_jobs=-1)]: Done 192 tasks      | elapsed:   49.5s\n",
            "[Parallel(n_jobs=-1)]: Done 442 tasks      | elapsed:  1.9min\n",
            "[Parallel(n_jobs=-1)]: Done 792 tasks      | elapsed:  2.7min\n",
            "[Parallel(n_jobs=-1)]: Done 1242 tasks      | elapsed:  4.6min\n",
            "[Parallel(n_jobs=-1)]: Done 1792 tasks      | elapsed:  7.0min\n",
            "[Parallel(n_jobs=-1)]: Done 2442 tasks      | elapsed:  9.3min\n",
            "[Parallel(n_jobs=-1)]: Done 3192 tasks      | elapsed: 12.0min\n",
            "[Parallel(n_jobs=-1)]: Done 3600 out of 3600 | elapsed: 13.2min finished\n"
          ]
        },
        {
          "name": "stdout",
          "output_type": "stream",
          "text": [
            "Best parameters found:\n",
            " {'max_depth': 6, 'max_features': 1, 'min_samples_leaf': 3, 'min_samples_split': 4, 'n_estimators': 100}\n",
            "0.9045454545454545\n",
            "\n"
          ]
        }
      ],
      "source": [
        "bestF = gridF.fit(X_test, y_test)\n",
        "\n",
        "print('Best parameters found:\\n', gridF.best_params_)\n",
        "print(gridF.best_score_)\n",
        "print()\n"
      ]
    },
    {
      "cell_type": "markdown",
      "metadata": {
        "id": "BfPdAkx1nKKl"
      },
      "source": [
        "# CLASSIFIER RF"
      ]
    },
    {
      "cell_type": "code",
      "execution_count": null,
      "metadata": {
        "scrolled": false,
        "id": "edUV9RJWnKKl",
        "outputId": "8baddbae-d623-427f-e8c2-332e95576cb4"
      },
      "outputs": [
        {
          "name": "stderr",
          "output_type": "stream",
          "text": [
            "[Parallel(n_jobs=-1)]: Using backend ThreadingBackend with 4 concurrent workers.\n",
            "[Parallel(n_jobs=-1)]: Done  42 tasks      | elapsed:    0.0s\n",
            "[Parallel(n_jobs=-1)]: Done 192 tasks      | elapsed:    0.2s\n",
            "[Parallel(n_jobs=-1)]: Done 300 out of 300 | elapsed:    0.4s finished\n",
            "[Parallel(n_jobs=4)]: Using backend ThreadingBackend with 4 concurrent workers.\n",
            "[Parallel(n_jobs=4)]: Done  42 tasks      | elapsed:    0.0s\n",
            "[Parallel(n_jobs=4)]: Done 192 tasks      | elapsed:    0.0s\n",
            "[Parallel(n_jobs=4)]: Done 300 out of 300 | elapsed:    0.0s finished\n"
          ]
        },
        {
          "name": "stdout",
          "output_type": "stream",
          "text": [
            "confusion_matrix: 0\n",
            "confusion_matrix: [[2 3]\n",
            " [0 6]]\n",
            "Accuracy :  0.7272727272727273\n",
            "Sensitivity :  0.4\n",
            "Specificity :  1.0\n"
          ]
        },
        {
          "name": "stderr",
          "output_type": "stream",
          "text": [
            "[Parallel(n_jobs=-1)]: Using backend ThreadingBackend with 4 concurrent workers.\n",
            "[Parallel(n_jobs=-1)]: Done  42 tasks      | elapsed:    0.0s\n",
            "[Parallel(n_jobs=-1)]: Done 192 tasks      | elapsed:    0.3s\n",
            "[Parallel(n_jobs=-1)]: Done 300 out of 300 | elapsed:    0.4s finished\n",
            "[Parallel(n_jobs=4)]: Using backend ThreadingBackend with 4 concurrent workers.\n",
            "[Parallel(n_jobs=4)]: Done  42 tasks      | elapsed:    0.0s\n",
            "[Parallel(n_jobs=4)]: Done 192 tasks      | elapsed:    0.0s\n",
            "[Parallel(n_jobs=4)]: Done 300 out of 300 | elapsed:    0.0s finished\n"
          ]
        },
        {
          "name": "stdout",
          "output_type": "stream",
          "text": [
            "confusion_matrix: 1\n",
            "confusion_matrix: [[5 2]\n",
            " [1 3]]\n",
            "Accuracy :  0.7272727272727273\n",
            "Sensitivity :  0.7142857142857143\n",
            "Specificity :  0.75\n"
          ]
        },
        {
          "name": "stderr",
          "output_type": "stream",
          "text": [
            "[Parallel(n_jobs=-1)]: Using backend ThreadingBackend with 4 concurrent workers.\n",
            "[Parallel(n_jobs=-1)]: Done  42 tasks      | elapsed:    0.0s\n",
            "[Parallel(n_jobs=-1)]: Done 192 tasks      | elapsed:    0.2s\n",
            "[Parallel(n_jobs=-1)]: Done 300 out of 300 | elapsed:    0.4s finished\n",
            "[Parallel(n_jobs=4)]: Using backend ThreadingBackend with 4 concurrent workers.\n",
            "[Parallel(n_jobs=4)]: Done  42 tasks      | elapsed:    0.0s\n",
            "[Parallel(n_jobs=4)]: Done 192 tasks      | elapsed:    0.0s\n",
            "[Parallel(n_jobs=4)]: Done 300 out of 300 | elapsed:    0.0s finished\n"
          ]
        },
        {
          "name": "stdout",
          "output_type": "stream",
          "text": [
            "confusion_matrix: 2\n",
            "confusion_matrix: [[2 1]\n",
            " [3 5]]\n",
            "Accuracy :  0.6363636363636364\n",
            "Sensitivity :  0.6666666666666666\n",
            "Specificity :  0.625\n"
          ]
        },
        {
          "name": "stderr",
          "output_type": "stream",
          "text": [
            "[Parallel(n_jobs=-1)]: Using backend ThreadingBackend with 4 concurrent workers.\n",
            "[Parallel(n_jobs=-1)]: Done  42 tasks      | elapsed:    0.0s\n",
            "[Parallel(n_jobs=-1)]: Done 192 tasks      | elapsed:    0.2s\n",
            "[Parallel(n_jobs=-1)]: Done 300 out of 300 | elapsed:    0.3s finished\n",
            "[Parallel(n_jobs=4)]: Using backend ThreadingBackend with 4 concurrent workers.\n",
            "[Parallel(n_jobs=4)]: Done  42 tasks      | elapsed:    0.0s\n",
            "[Parallel(n_jobs=4)]: Done 192 tasks      | elapsed:    0.0s\n",
            "[Parallel(n_jobs=4)]: Done 300 out of 300 | elapsed:    0.0s finished\n",
            "[Parallel(n_jobs=-1)]: Using backend ThreadingBackend with 4 concurrent workers.\n"
          ]
        },
        {
          "name": "stdout",
          "output_type": "stream",
          "text": [
            "confusion_matrix: 3\n",
            "confusion_matrix: [[3 1]\n",
            " [1 6]]\n",
            "Accuracy :  0.8181818181818182\n",
            "Sensitivity :  0.75\n",
            "Specificity :  0.8571428571428571\n"
          ]
        },
        {
          "name": "stderr",
          "output_type": "stream",
          "text": [
            "[Parallel(n_jobs=-1)]: Done  42 tasks      | elapsed:    0.0s\n",
            "[Parallel(n_jobs=-1)]: Done 192 tasks      | elapsed:    0.2s\n",
            "[Parallel(n_jobs=-1)]: Done 300 out of 300 | elapsed:    0.4s finished\n",
            "[Parallel(n_jobs=4)]: Using backend ThreadingBackend with 4 concurrent workers.\n",
            "[Parallel(n_jobs=4)]: Done  42 tasks      | elapsed:    0.0s\n",
            "[Parallel(n_jobs=4)]: Done 192 tasks      | elapsed:    0.0s\n",
            "[Parallel(n_jobs=4)]: Done 300 out of 300 | elapsed:    0.0s finished\n"
          ]
        },
        {
          "name": "stdout",
          "output_type": "stream",
          "text": [
            "confusion_matrix: 4\n",
            "confusion_matrix: [[1 4]\n",
            " [1 5]]\n",
            "Accuracy :  0.5454545454545454\n",
            "Sensitivity :  0.2\n",
            "Specificity :  0.8333333333333334\n"
          ]
        },
        {
          "name": "stderr",
          "output_type": "stream",
          "text": [
            "[Parallel(n_jobs=-1)]: Using backend ThreadingBackend with 4 concurrent workers.\n",
            "[Parallel(n_jobs=-1)]: Done  42 tasks      | elapsed:    0.0s\n",
            "[Parallel(n_jobs=-1)]: Done 192 tasks      | elapsed:    0.2s\n",
            "[Parallel(n_jobs=-1)]: Done 300 out of 300 | elapsed:    0.4s finished\n",
            "[Parallel(n_jobs=4)]: Using backend ThreadingBackend with 4 concurrent workers.\n",
            "[Parallel(n_jobs=4)]: Done  42 tasks      | elapsed:    0.0s\n",
            "[Parallel(n_jobs=4)]: Done 192 tasks      | elapsed:    0.0s\n",
            "[Parallel(n_jobs=4)]: Done 300 out of 300 | elapsed:    0.0s finished\n"
          ]
        },
        {
          "name": "stdout",
          "output_type": "stream",
          "text": [
            "confusion_matrix: 5\n",
            "confusion_matrix: [[2 2]\n",
            " [3 4]]\n",
            "Accuracy :  0.5454545454545454\n",
            "Sensitivity :  0.5\n",
            "Specificity :  0.5714285714285714\n"
          ]
        },
        {
          "name": "stderr",
          "output_type": "stream",
          "text": [
            "[Parallel(n_jobs=-1)]: Using backend ThreadingBackend with 4 concurrent workers.\n",
            "[Parallel(n_jobs=-1)]: Done  42 tasks      | elapsed:    0.0s\n",
            "[Parallel(n_jobs=-1)]: Done 192 tasks      | elapsed:    0.2s\n",
            "[Parallel(n_jobs=-1)]: Done 300 out of 300 | elapsed:    0.4s finished\n",
            "[Parallel(n_jobs=4)]: Using backend ThreadingBackend with 4 concurrent workers.\n",
            "[Parallel(n_jobs=4)]: Done  42 tasks      | elapsed:    0.0s\n",
            "[Parallel(n_jobs=4)]: Done 192 tasks      | elapsed:    0.0s\n",
            "[Parallel(n_jobs=4)]: Done 300 out of 300 | elapsed:    0.0s finished\n"
          ]
        },
        {
          "name": "stdout",
          "output_type": "stream",
          "text": [
            "confusion_matrix: 6\n",
            "confusion_matrix: [[3 1]\n",
            " [0 7]]\n",
            "Accuracy :  0.9090909090909091\n",
            "Sensitivity :  0.75\n",
            "Specificity :  1.0\n"
          ]
        },
        {
          "name": "stderr",
          "output_type": "stream",
          "text": [
            "[Parallel(n_jobs=-1)]: Using backend ThreadingBackend with 4 concurrent workers.\n",
            "[Parallel(n_jobs=-1)]: Done  42 tasks      | elapsed:    0.0s\n",
            "[Parallel(n_jobs=-1)]: Done 192 tasks      | elapsed:    0.2s\n",
            "[Parallel(n_jobs=-1)]: Done 300 out of 300 | elapsed:    0.4s finished\n",
            "[Parallel(n_jobs=4)]: Using backend ThreadingBackend with 4 concurrent workers.\n",
            "[Parallel(n_jobs=4)]: Done  42 tasks      | elapsed:    0.0s\n",
            "[Parallel(n_jobs=4)]: Done 192 tasks      | elapsed:    0.0s\n",
            "[Parallel(n_jobs=4)]: Done 300 out of 300 | elapsed:    0.0s finished\n"
          ]
        },
        {
          "name": "stdout",
          "output_type": "stream",
          "text": [
            "confusion_matrix: 7\n",
            "confusion_matrix: [[2 2]\n",
            " [2 5]]\n",
            "Accuracy :  0.6363636363636364\n",
            "Sensitivity :  0.5\n",
            "Specificity :  0.7142857142857143\n"
          ]
        },
        {
          "name": "stderr",
          "output_type": "stream",
          "text": [
            "[Parallel(n_jobs=-1)]: Using backend ThreadingBackend with 4 concurrent workers.\n",
            "[Parallel(n_jobs=-1)]: Done  42 tasks      | elapsed:    0.0s\n",
            "[Parallel(n_jobs=-1)]: Done 192 tasks      | elapsed:    0.2s\n",
            "[Parallel(n_jobs=-1)]: Done 300 out of 300 | elapsed:    0.4s finished\n",
            "[Parallel(n_jobs=4)]: Using backend ThreadingBackend with 4 concurrent workers.\n",
            "[Parallel(n_jobs=4)]: Done  42 tasks      | elapsed:    0.0s\n",
            "[Parallel(n_jobs=4)]: Done 192 tasks      | elapsed:    0.0s\n",
            "[Parallel(n_jobs=4)]: Done 300 out of 300 | elapsed:    0.0s finished\n"
          ]
        },
        {
          "name": "stdout",
          "output_type": "stream",
          "text": [
            "confusion_matrix: 8\n",
            "confusion_matrix: [[3 2]\n",
            " [1 5]]\n",
            "Accuracy :  0.7272727272727273\n",
            "Sensitivity :  0.6\n",
            "Specificity :  0.8333333333333334\n"
          ]
        },
        {
          "name": "stderr",
          "output_type": "stream",
          "text": [
            "[Parallel(n_jobs=-1)]: Using backend ThreadingBackend with 4 concurrent workers.\n",
            "[Parallel(n_jobs=-1)]: Done  42 tasks      | elapsed:    0.0s\n",
            "[Parallel(n_jobs=-1)]: Done 192 tasks      | elapsed:    0.2s\n",
            "[Parallel(n_jobs=-1)]: Done 300 out of 300 | elapsed:    0.4s finished\n"
          ]
        },
        {
          "name": "stdout",
          "output_type": "stream",
          "text": [
            "confusion_matrix: 9\n",
            "confusion_matrix: [[2 2]\n",
            " [2 5]]\n",
            "Accuracy :  0.6363636363636364\n",
            "Sensitivity :  0.5\n",
            "Specificity :  0.7142857142857143\n",
            "\n",
            " \n",
            " best result with 300 estimators is 0.9090909090909091\n"
          ]
        },
        {
          "name": "stderr",
          "output_type": "stream",
          "text": [
            "[Parallel(n_jobs=4)]: Using backend ThreadingBackend with 4 concurrent workers.\n",
            "[Parallel(n_jobs=4)]: Done  42 tasks      | elapsed:    0.0s\n",
            "[Parallel(n_jobs=4)]: Done 192 tasks      | elapsed:    0.0s\n",
            "[Parallel(n_jobs=4)]: Done 300 out of 300 | elapsed:    0.0s finished\n"
          ]
        }
      ],
      "source": [
        "#RF__1\n",
        "\n",
        "\n",
        "import numpy as np\n",
        "import matplotlib.pyplot as plt\n",
        "from matplotlib.colors import Normalize\n",
        "from sklearn import svm\n",
        "import cv2 as cv\n",
        "\n",
        "from sklearn.svm import SVC\n",
        "from sklearn.preprocessing import StandardScaler\n",
        "from sklearn.datasets import load_iris\n",
        "from sklearn.model_selection import StratifiedShuffleSplit\n",
        "from sklearn.model_selection import GridSearchCV\n",
        "from sklearn import datasets\n",
        "from sklearn.model_selection import train_test_split\n",
        "from sklearn.model_selection import GridSearchCV\n",
        "from sklearn.metrics import classification_report\n",
        "\n",
        "from sklearn.model_selection import cross_val_score\n",
        "from sklearn.model_selection import cross_validate\n",
        "from sklearn.model_selection import KFold\n",
        "\n",
        "#from sklearn.model_selection import cross_validate\n",
        "\n",
        "from sklearn.model_selection import KFold\n",
        "\n",
        "from sklearn.metrics import classification_report, confusion_matrix\n",
        "from sklearn import metrics\n",
        "from sklearn.model_selection import cross_val_score, cross_val_predict\n",
        "from sklearn import metrics\n",
        "from sklearn.ensemble import RandomForestClassifier\n",
        "from sklearn.datasets import make_classification\n",
        "\n",
        "\n",
        "\n",
        "\n",
        "X = np.array([\n",
        "\n",
        "[660637 , 239122 , 116133],\n",
        "[626396 , 211031 , 111723],\n",
        "[779738 , 149363 , 239855],\n",
        "[820800 , 98165 , 318429],\n",
        "[880518 , 113981 , 338404],\n",
        "[822090 , 101318 , 320785],\n",
        "[652493 , 166184 , 143048],\n",
        "[761698 , 127907 , 230384],\n",
        "[734188 , 92931 , 257890],\n",
        "[769980 , 100983 , 281726],\n",
        "[867479 , 90298 , 310288],\n",
        "[752041 , 113210 , 245865],\n",
        "[888534 , 145716 , 321371],\n",
        "[741734 , 83734 , 237132],\n",
        "    \n",
        "[656082 , 171539 , 172058],\n",
        "[607415 , 60610 , 140759],\n",
        "[688497 , 71170 , 234119],\n",
        "[739948 , 116774 , 235193],\n",
        "[678953 , 94314 , 190707],\n",
        "[680386 , 55058 , 162511],\n",
        "[706400 , 97178 , 220109],\n",
        "\n",
        "\n",
        "[723340 , 214672 , 155431],\n",
        "[920539 , 141390 , 333481],\n",
        "[834544 , 166777 , 295839],\n",
        "[874739 , 117024 , 349480],\n",
        "\n",
        "\n",
        "[653596 , 201884 , 150713],\n",
        "[824928 , 128115 , 315320],\n",
        "[867649 , 128251 , 345512],\n",
        "[759042 , 99496 , 299523],\n",
        "[776248 , 104115 , 293652],\n",
        "[873569 , 149652 , 314993],\n",
        "[751980 , 131871 , 256686],\n",
        "[812066 , 127176 , 283669],\n",
        "[877417 , 148687 , 321547],\n",
        "[773098 , 105068 , 297077],\n",
        "\n",
        "   ])      \n",
        "             \n",
        "\n",
        "y = np.array([    \n",
        "1,1,1, 1,1,1, 1,1,1, 1,1,1, 1,1, 1,1,1, 1,1,1, 1,0,0, 0,0,0, 0,0,0, 0,0,0, 0,0,0\n",
        "\n",
        "])\n",
        "\n",
        "\n",
        "\n",
        "'''\n",
        "Best parameters found:\n",
        " {'max_depth': 6, 'max_features': 1, 'min_samples_leaf': 1, 'min_samples_split': 3, 'n_estimators': 100}\n",
        "0.8285714285714285\n",
        "\n",
        " {'max_depth': 6, 'max_features': 1, 'min_samples_leaf': 1, 'min_samples_split': 3, 'n_estimators': 400}\n",
        "0.8285714285714285\n",
        "\n",
        "'''\n",
        "accuracy1=[]\n",
        "for i in range(10):\n",
        "    X_train, X_test, y_train, y_test = train_test_split(X, y, train_size = 0.7,test_size = 0.3, random_state=i)\n",
        "    svclassifier = RandomForestClassifier(n_estimators=300, max_features=1, n_jobs=-1, verbose=1,max_depth=6)\n",
        "    svclassifier.fit(X_train, y_train)\n",
        "    y_pred = svclassifier.predict(X_test)\n",
        "   #print(y_pred)\n",
        "    print(\"confusion_matrix:\",  i)\n",
        "    cm1 = confusion_matrix(y_test,y_pred)\n",
        "    print(\"confusion_matrix:\",  cm1)\n",
        "    total1=sum(sum(cm1))\n",
        "    Accuracy=(cm1[0,0]+cm1[1,1])/total1\n",
        "    accuracy1 +=[Accuracy]\n",
        "    print ('Accuracy : ', Accuracy)\n",
        "    sensitivity1 = cm1[0,0]/(cm1[0,0]+cm1[0,1])\n",
        "    print('Sensitivity : ', sensitivity1 )\n",
        "    specificity1 = cm1[1,1]/(cm1[1,0]+cm1[1,1])\n",
        "    print('Specificity : ', specificity1)\n",
        "print('\\n \\n best result with 300 estimators is',max(accuracy1))"
      ]
    },
    {
      "cell_type": "code",
      "execution_count": null,
      "metadata": {
        "scrolled": false,
        "id": "C7EPQGnpnKKo",
        "outputId": "0ed9b46f-1fc2-476c-996f-a6470a7874d7"
      },
      "outputs": [
        {
          "name": "stderr",
          "output_type": "stream",
          "text": [
            "[Parallel(n_jobs=-1)]: Using backend ThreadingBackend with 4 concurrent workers.\n",
            "[Parallel(n_jobs=-1)]: Done  42 tasks      | elapsed:    0.0s\n",
            "[Parallel(n_jobs=-1)]: Done 100 out of 100 | elapsed:    0.1s finished\n",
            "[Parallel(n_jobs=4)]: Using backend ThreadingBackend with 4 concurrent workers.\n",
            "[Parallel(n_jobs=4)]: Done  42 tasks      | elapsed:    0.0s\n",
            "[Parallel(n_jobs=4)]: Done 100 out of 100 | elapsed:    0.0s finished\n",
            "[Parallel(n_jobs=-1)]: Using backend ThreadingBackend with 4 concurrent workers.\n"
          ]
        },
        {
          "name": "stdout",
          "output_type": "stream",
          "text": [
            "confusion_matrix: 0\n",
            "confusion_matrix: [[2 3]\n",
            " [0 6]]\n",
            "Accuracy :  0.7272727272727273\n",
            "Sensitivity :  0.4\n",
            "Specificity :  1.0\n"
          ]
        },
        {
          "name": "stderr",
          "output_type": "stream",
          "text": [
            "[Parallel(n_jobs=-1)]: Done  42 tasks      | elapsed:    0.0s\n",
            "[Parallel(n_jobs=-1)]: Done 100 out of 100 | elapsed:    0.1s finished\n",
            "[Parallel(n_jobs=4)]: Using backend ThreadingBackend with 4 concurrent workers.\n",
            "[Parallel(n_jobs=4)]: Done  42 tasks      | elapsed:    0.0s\n",
            "[Parallel(n_jobs=4)]: Done 100 out of 100 | elapsed:    0.0s finished\n"
          ]
        },
        {
          "name": "stdout",
          "output_type": "stream",
          "text": [
            "confusion_matrix: 1\n",
            "confusion_matrix: [[2 5]\n",
            " [1 3]]\n",
            "Accuracy :  0.45454545454545453\n",
            "Sensitivity :  0.2857142857142857\n",
            "Specificity :  0.75\n"
          ]
        },
        {
          "name": "stderr",
          "output_type": "stream",
          "text": [
            "[Parallel(n_jobs=-1)]: Using backend ThreadingBackend with 4 concurrent workers.\n",
            "[Parallel(n_jobs=-1)]: Done  42 tasks      | elapsed:    0.0s\n",
            "[Parallel(n_jobs=-1)]: Done 100 out of 100 | elapsed:    0.1s finished\n",
            "[Parallel(n_jobs=4)]: Using backend ThreadingBackend with 4 concurrent workers.\n",
            "[Parallel(n_jobs=4)]: Done  42 tasks      | elapsed:    0.0s\n",
            "[Parallel(n_jobs=4)]: Done 100 out of 100 | elapsed:    0.0s finished\n"
          ]
        },
        {
          "name": "stdout",
          "output_type": "stream",
          "text": [
            "confusion_matrix: 2\n",
            "confusion_matrix: [[2 1]\n",
            " [4 4]]\n",
            "Accuracy :  0.5454545454545454\n",
            "Sensitivity :  0.6666666666666666\n",
            "Specificity :  0.5\n"
          ]
        },
        {
          "name": "stderr",
          "output_type": "stream",
          "text": [
            "[Parallel(n_jobs=-1)]: Using backend ThreadingBackend with 4 concurrent workers.\n",
            "[Parallel(n_jobs=-1)]: Done  42 tasks      | elapsed:    0.0s\n",
            "[Parallel(n_jobs=-1)]: Done 100 out of 100 | elapsed:    0.1s finished\n",
            "[Parallel(n_jobs=4)]: Using backend ThreadingBackend with 4 concurrent workers.\n",
            "[Parallel(n_jobs=4)]: Done  42 tasks      | elapsed:    0.0s\n",
            "[Parallel(n_jobs=4)]: Done 100 out of 100 | elapsed:    0.0s finished\n",
            "[Parallel(n_jobs=-1)]: Using backend ThreadingBackend with 4 concurrent workers.\n"
          ]
        },
        {
          "name": "stdout",
          "output_type": "stream",
          "text": [
            "confusion_matrix: 3\n",
            "confusion_matrix: [[2 2]\n",
            " [2 5]]\n",
            "Accuracy :  0.6363636363636364\n",
            "Sensitivity :  0.5\n",
            "Specificity :  0.7142857142857143\n"
          ]
        },
        {
          "name": "stderr",
          "output_type": "stream",
          "text": [
            "[Parallel(n_jobs=-1)]: Done  42 tasks      | elapsed:    0.0s\n",
            "[Parallel(n_jobs=-1)]: Done 100 out of 100 | elapsed:    0.1s finished\n",
            "[Parallel(n_jobs=4)]: Using backend ThreadingBackend with 4 concurrent workers.\n",
            "[Parallel(n_jobs=4)]: Done  42 tasks      | elapsed:    0.0s\n",
            "[Parallel(n_jobs=4)]: Done 100 out of 100 | elapsed:    0.0s finished\n"
          ]
        },
        {
          "name": "stdout",
          "output_type": "stream",
          "text": [
            "confusion_matrix: 4\n",
            "confusion_matrix: [[0 5]\n",
            " [1 5]]\n",
            "Accuracy :  0.45454545454545453\n",
            "Sensitivity :  0.0\n",
            "Specificity :  0.8333333333333334\n"
          ]
        },
        {
          "name": "stderr",
          "output_type": "stream",
          "text": [
            "[Parallel(n_jobs=-1)]: Using backend ThreadingBackend with 4 concurrent workers.\n",
            "[Parallel(n_jobs=-1)]: Done  42 tasks      | elapsed:    0.0s\n",
            "[Parallel(n_jobs=-1)]: Done 100 out of 100 | elapsed:    0.1s finished\n",
            "[Parallel(n_jobs=4)]: Using backend ThreadingBackend with 4 concurrent workers.\n",
            "[Parallel(n_jobs=4)]: Done  42 tasks      | elapsed:    0.0s\n",
            "[Parallel(n_jobs=4)]: Done 100 out of 100 | elapsed:    0.0s finished\n",
            "[Parallel(n_jobs=-1)]: Using backend ThreadingBackend with 4 concurrent workers.\n"
          ]
        },
        {
          "name": "stdout",
          "output_type": "stream",
          "text": [
            "confusion_matrix: 5\n",
            "confusion_matrix: [[2 2]\n",
            " [3 4]]\n",
            "Accuracy :  0.5454545454545454\n",
            "Sensitivity :  0.5\n",
            "Specificity :  0.5714285714285714\n"
          ]
        },
        {
          "name": "stderr",
          "output_type": "stream",
          "text": [
            "[Parallel(n_jobs=-1)]: Done  42 tasks      | elapsed:    0.0s\n",
            "[Parallel(n_jobs=-1)]: Done 100 out of 100 | elapsed:    0.1s finished\n",
            "[Parallel(n_jobs=4)]: Using backend ThreadingBackend with 4 concurrent workers.\n",
            "[Parallel(n_jobs=4)]: Done  42 tasks      | elapsed:    0.0s\n",
            "[Parallel(n_jobs=4)]: Done 100 out of 100 | elapsed:    0.0s finished\n"
          ]
        },
        {
          "name": "stdout",
          "output_type": "stream",
          "text": [
            "confusion_matrix: 6\n",
            "confusion_matrix: [[3 1]\n",
            " [1 6]]\n",
            "Accuracy :  0.8181818181818182\n",
            "Sensitivity :  0.75\n",
            "Specificity :  0.8571428571428571\n"
          ]
        },
        {
          "name": "stderr",
          "output_type": "stream",
          "text": [
            "[Parallel(n_jobs=-1)]: Using backend ThreadingBackend with 4 concurrent workers.\n",
            "[Parallel(n_jobs=-1)]: Done  42 tasks      | elapsed:    0.0s\n",
            "[Parallel(n_jobs=-1)]: Done 100 out of 100 | elapsed:    0.1s finished\n",
            "[Parallel(n_jobs=4)]: Using backend ThreadingBackend with 4 concurrent workers.\n",
            "[Parallel(n_jobs=4)]: Done  42 tasks      | elapsed:    0.0s\n",
            "[Parallel(n_jobs=4)]: Done 100 out of 100 | elapsed:    0.0s finished\n",
            "[Parallel(n_jobs=-1)]: Using backend ThreadingBackend with 4 concurrent workers.\n"
          ]
        },
        {
          "name": "stdout",
          "output_type": "stream",
          "text": [
            "confusion_matrix: 7\n",
            "confusion_matrix: [[2 2]\n",
            " [2 5]]\n",
            "Accuracy :  0.6363636363636364\n",
            "Sensitivity :  0.5\n",
            "Specificity :  0.7142857142857143\n"
          ]
        },
        {
          "name": "stderr",
          "output_type": "stream",
          "text": [
            "[Parallel(n_jobs=-1)]: Done  42 tasks      | elapsed:    0.0s\n",
            "[Parallel(n_jobs=-1)]: Done 100 out of 100 | elapsed:    0.1s finished\n",
            "[Parallel(n_jobs=4)]: Using backend ThreadingBackend with 4 concurrent workers.\n",
            "[Parallel(n_jobs=4)]: Done  42 tasks      | elapsed:    0.0s\n",
            "[Parallel(n_jobs=4)]: Done 100 out of 100 | elapsed:    0.0s finished\n"
          ]
        },
        {
          "name": "stdout",
          "output_type": "stream",
          "text": [
            "confusion_matrix: 8\n",
            "confusion_matrix: [[3 2]\n",
            " [1 5]]\n",
            "Accuracy :  0.7272727272727273\n",
            "Sensitivity :  0.6\n",
            "Specificity :  0.8333333333333334\n"
          ]
        },
        {
          "name": "stderr",
          "output_type": "stream",
          "text": [
            "[Parallel(n_jobs=-1)]: Using backend ThreadingBackend with 4 concurrent workers.\n",
            "[Parallel(n_jobs=-1)]: Done  42 tasks      | elapsed:    0.0s\n",
            "[Parallel(n_jobs=-1)]: Done 100 out of 100 | elapsed:    0.1s finished\n"
          ]
        },
        {
          "name": "stdout",
          "output_type": "stream",
          "text": [
            "confusion_matrix: 9\n",
            "confusion_matrix: [[2 2]\n",
            " [2 5]]\n",
            "Accuracy :  0.6363636363636364\n",
            "Sensitivity :  0.5\n",
            "Specificity :  0.7142857142857143\n",
            "\n",
            " \n",
            " best result with 100 is 0.8181818181818182\n"
          ]
        },
        {
          "name": "stderr",
          "output_type": "stream",
          "text": [
            "[Parallel(n_jobs=4)]: Using backend ThreadingBackend with 4 concurrent workers.\n",
            "[Parallel(n_jobs=4)]: Done  42 tasks      | elapsed:    0.0s\n",
            "[Parallel(n_jobs=4)]: Done 100 out of 100 | elapsed:    0.0s finished\n"
          ]
        }
      ],
      "source": [
        "#RF__2\n",
        "\n",
        "\n",
        "import numpy as np\n",
        "import matplotlib.pyplot as plt\n",
        "from matplotlib.colors import Normalize\n",
        "from sklearn import svm\n",
        "import cv2 as cv\n",
        "\n",
        "from sklearn.svm import SVC\n",
        "from sklearn.preprocessing import StandardScaler\n",
        "from sklearn.datasets import load_iris\n",
        "from sklearn.model_selection import StratifiedShuffleSplit\n",
        "from sklearn.model_selection import GridSearchCV\n",
        "from sklearn import datasets\n",
        "from sklearn.model_selection import train_test_split\n",
        "from sklearn.model_selection import GridSearchCV\n",
        "from sklearn.metrics import classification_report\n",
        "\n",
        "from sklearn.model_selection import cross_val_score\n",
        "from sklearn.model_selection import cross_validate\n",
        "from sklearn.model_selection import KFold\n",
        "\n",
        "#from sklearn.model_selection import cross_validate\n",
        "\n",
        "from sklearn.model_selection import KFold\n",
        "\n",
        "from sklearn.metrics import classification_report, confusion_matrix\n",
        "from sklearn import metrics\n",
        "from sklearn.model_selection import cross_val_score, cross_val_predict\n",
        "from sklearn import metrics\n",
        "from sklearn.ensemble import RandomForestClassifier\n",
        "from sklearn.datasets import make_classification\n",
        "\n",
        "\n",
        "accuracy1=[]\n",
        "\n",
        "\n",
        "X = np.array([\n",
        "\n",
        "[660637 , 239122 , 116133],\n",
        "[626396 , 211031 , 111723],\n",
        "[779738 , 149363 , 239855],\n",
        "[820800 , 98165 , 318429],\n",
        "[880518 , 113981 , 338404],\n",
        "[822090 , 101318 , 320785],\n",
        "[652493 , 166184 , 143048],\n",
        "[761698 , 127907 , 230384],\n",
        "[734188 , 92931 , 257890],\n",
        "[769980 , 100983 , 281726],\n",
        "[867479 , 90298 , 310288],\n",
        "[752041 , 113210 , 245865],\n",
        "[888534 , 145716 , 321371],\n",
        "[741734 , 83734 , 237132],\n",
        "    \n",
        "[656082 , 171539 , 172058],\n",
        "[607415 , 60610 , 140759],\n",
        "[688497 , 71170 , 234119],\n",
        "[739948 , 116774 , 235193],\n",
        "[678953 , 94314 , 190707],\n",
        "[680386 , 55058 , 162511],\n",
        "[706400 , 97178 , 220109],\n",
        "\n",
        "\n",
        "[723340 , 214672 , 155431],\n",
        "[920539 , 141390 , 333481],\n",
        "[834544 , 166777 , 295839],\n",
        "[874739 , 117024 , 349480],\n",
        "\n",
        "\n",
        "[653596 , 201884 , 150713],\n",
        "[824928 , 128115 , 315320],\n",
        "[867649 , 128251 , 345512],\n",
        "[759042 , 99496 , 299523],\n",
        "[776248 , 104115 , 293652],\n",
        "[873569 , 149652 , 314993],\n",
        "[751980 , 131871 , 256686],\n",
        "[812066 , 127176 , 283669],\n",
        "[877417 , 148687 , 321547],\n",
        "[773098 , 105068 , 297077],\n",
        "\n",
        "   ])      \n",
        "             \n",
        "\n",
        "y = np.array([    \n",
        "1,1,1, 1,1,1, 1,1,1, 1,1,1, 1,1, 1,1,1, 1,1,1, 1,0,0, 0,0,0, 0,0,0, 0,0,0, 0,0,0\n",
        "\n",
        "])\n",
        "\n",
        "\n",
        "\n",
        "'''\n",
        "Best parameters found:\n",
        " {'max_depth': 6, 'max_features': 1, 'min_samples_leaf': 1, 'min_samples_split': 3, 'n_estimators': 100}\n",
        "0.8285714285714285\n",
        "\n",
        " {'max_depth': 6, 'max_features': 1, 'min_samples_leaf': 1, 'min_samples_split': 3, 'n_estimators': 400}\n",
        "0.8285714285714285\n",
        "\n",
        "\n",
        "besr acc 90\n",
        "\n",
        "'''\n",
        "for i in range(10):\n",
        "    X_train, X_test, y_train, y_test = train_test_split(X, y, train_size = 0.7,test_size = 0.3, random_state=i)\n",
        "    svclassifier = RandomForestClassifier(n_estimators=100, max_features=1, n_jobs=-1, verbose=1,max_depth=6)\n",
        "    svclassifier.fit(X_train, y_train)\n",
        "    y_pred = svclassifier.predict(X_test)\n",
        "   #print(y_pred)\n",
        "    print(\"confusion_matrix:\",  i)\n",
        "    cm1 = confusion_matrix(y_test,y_pred)\n",
        "    print(\"confusion_matrix:\",  cm1)\n",
        "    total1=sum(sum(cm1))\n",
        "    Accuracy=(cm1[0,0]+cm1[1,1])/total1\n",
        "    accuracy1 +=[Accuracy]\n",
        "    print ('Accuracy : ', Accuracy)\n",
        "    sensitivity1 = cm1[0,0]/(cm1[0,0]+cm1[0,1])\n",
        "    print('Sensitivity : ', sensitivity1 )\n",
        "    specificity1 = cm1[1,1]/(cm1[1,0]+cm1[1,1])\n",
        "    print('Specificity : ', specificity1)\n",
        "print('\\n \\n best result with 100 is',max(accuracy1))"
      ]
    },
    {
      "cell_type": "code",
      "execution_count": null,
      "metadata": {
        "scrolled": false,
        "id": "nFIIclesnKKr",
        "outputId": "26e7b053-3074-4c73-8381-47f587584691"
      },
      "outputs": [
        {
          "name": "stderr",
          "output_type": "stream",
          "text": [
            "[Parallel(n_jobs=-1)]: Using backend ThreadingBackend with 4 concurrent workers.\n",
            "[Parallel(n_jobs=-1)]: Done  42 tasks      | elapsed:    0.0s\n",
            "[Parallel(n_jobs=-1)]: Done 192 tasks      | elapsed:    0.2s\n",
            "[Parallel(n_jobs=-1)]: Done 400 out of 400 | elapsed:    0.6s finished\n",
            "[Parallel(n_jobs=4)]: Using backend ThreadingBackend with 4 concurrent workers.\n",
            "[Parallel(n_jobs=4)]: Done  42 tasks      | elapsed:    0.0s\n",
            "[Parallel(n_jobs=4)]: Done 192 tasks      | elapsed:    0.0s\n",
            "[Parallel(n_jobs=4)]: Done 400 out of 400 | elapsed:    0.0s finished\n"
          ]
        },
        {
          "name": "stdout",
          "output_type": "stream",
          "text": [
            "confusion_matrix: 0\n",
            "confusion_matrix: [[2 3]\n",
            " [0 6]]\n",
            "Accuracy :  0.7272727272727273\n",
            "Sensitivity :  0.4\n",
            "Specificity :  1.0\n"
          ]
        },
        {
          "name": "stderr",
          "output_type": "stream",
          "text": [
            "[Parallel(n_jobs=-1)]: Using backend ThreadingBackend with 4 concurrent workers.\n",
            "[Parallel(n_jobs=-1)]: Done  42 tasks      | elapsed:    0.0s\n",
            "[Parallel(n_jobs=-1)]: Done 192 tasks      | elapsed:    0.2s\n",
            "[Parallel(n_jobs=-1)]: Done 400 out of 400 | elapsed:    0.5s finished\n",
            "[Parallel(n_jobs=4)]: Using backend ThreadingBackend with 4 concurrent workers.\n",
            "[Parallel(n_jobs=4)]: Done  42 tasks      | elapsed:    0.0s\n",
            "[Parallel(n_jobs=4)]: Done 192 tasks      | elapsed:    0.0s\n",
            "[Parallel(n_jobs=4)]: Done 400 out of 400 | elapsed:    0.0s finished\n"
          ]
        },
        {
          "name": "stdout",
          "output_type": "stream",
          "text": [
            "confusion_matrix: 1\n",
            "confusion_matrix: [[5 2]\n",
            " [1 3]]\n",
            "Accuracy :  0.7272727272727273\n",
            "Sensitivity :  0.7142857142857143\n",
            "Specificity :  0.75\n"
          ]
        },
        {
          "name": "stderr",
          "output_type": "stream",
          "text": [
            "[Parallel(n_jobs=-1)]: Using backend ThreadingBackend with 4 concurrent workers.\n",
            "[Parallel(n_jobs=-1)]: Done  42 tasks      | elapsed:    0.0s\n",
            "[Parallel(n_jobs=-1)]: Done 192 tasks      | elapsed:    0.2s\n",
            "[Parallel(n_jobs=-1)]: Done 400 out of 400 | elapsed:    0.6s finished\n",
            "[Parallel(n_jobs=4)]: Using backend ThreadingBackend with 4 concurrent workers.\n",
            "[Parallel(n_jobs=4)]: Done  42 tasks      | elapsed:    0.0s\n",
            "[Parallel(n_jobs=4)]: Done 192 tasks      | elapsed:    0.0s\n",
            "[Parallel(n_jobs=4)]: Done 400 out of 400 | elapsed:    0.0s finished\n",
            "[Parallel(n_jobs=-1)]: Using backend ThreadingBackend with 4 concurrent workers.\n"
          ]
        },
        {
          "name": "stdout",
          "output_type": "stream",
          "text": [
            "confusion_matrix: 2\n",
            "confusion_matrix: [[2 1]\n",
            " [3 5]]\n",
            "Accuracy :  0.6363636363636364\n",
            "Sensitivity :  0.6666666666666666\n",
            "Specificity :  0.625\n"
          ]
        },
        {
          "name": "stderr",
          "output_type": "stream",
          "text": [
            "[Parallel(n_jobs=-1)]: Done  42 tasks      | elapsed:    0.0s\n",
            "[Parallel(n_jobs=-1)]: Done 192 tasks      | elapsed:    0.2s\n",
            "[Parallel(n_jobs=-1)]: Done 400 out of 400 | elapsed:    0.6s finished\n",
            "[Parallel(n_jobs=4)]: Using backend ThreadingBackend with 4 concurrent workers.\n",
            "[Parallel(n_jobs=4)]: Done  42 tasks      | elapsed:    0.0s\n",
            "[Parallel(n_jobs=4)]: Done 192 tasks      | elapsed:    0.0s\n",
            "[Parallel(n_jobs=4)]: Done 400 out of 400 | elapsed:    0.0s finished\n"
          ]
        },
        {
          "name": "stdout",
          "output_type": "stream",
          "text": [
            "confusion_matrix: 3\n",
            "confusion_matrix: [[3 1]\n",
            " [1 6]]\n",
            "Accuracy :  0.8181818181818182\n",
            "Sensitivity :  0.75\n",
            "Specificity :  0.8571428571428571\n"
          ]
        },
        {
          "name": "stderr",
          "output_type": "stream",
          "text": [
            "[Parallel(n_jobs=-1)]: Using backend ThreadingBackend with 4 concurrent workers.\n",
            "[Parallel(n_jobs=-1)]: Done  42 tasks      | elapsed:    0.0s\n",
            "[Parallel(n_jobs=-1)]: Done 192 tasks      | elapsed:    0.3s\n",
            "[Parallel(n_jobs=-1)]: Done 400 out of 400 | elapsed:    0.6s finished\n",
            "[Parallel(n_jobs=4)]: Using backend ThreadingBackend with 4 concurrent workers.\n",
            "[Parallel(n_jobs=4)]: Done  42 tasks      | elapsed:    0.0s\n",
            "[Parallel(n_jobs=4)]: Done 192 tasks      | elapsed:    0.0s\n",
            "[Parallel(n_jobs=4)]: Done 400 out of 400 | elapsed:    0.0s finished\n"
          ]
        },
        {
          "name": "stdout",
          "output_type": "stream",
          "text": [
            "confusion_matrix: 4\n",
            "confusion_matrix: [[0 5]\n",
            " [1 5]]\n",
            "Accuracy :  0.45454545454545453\n",
            "Sensitivity :  0.0\n",
            "Specificity :  0.8333333333333334\n"
          ]
        },
        {
          "name": "stderr",
          "output_type": "stream",
          "text": [
            "[Parallel(n_jobs=-1)]: Using backend ThreadingBackend with 4 concurrent workers.\n",
            "[Parallel(n_jobs=-1)]: Done  42 tasks      | elapsed:    0.0s\n",
            "[Parallel(n_jobs=-1)]: Done 192 tasks      | elapsed:    0.2s\n",
            "[Parallel(n_jobs=-1)]: Done 400 out of 400 | elapsed:    0.6s finished\n",
            "[Parallel(n_jobs=4)]: Using backend ThreadingBackend with 4 concurrent workers.\n",
            "[Parallel(n_jobs=4)]: Done  42 tasks      | elapsed:    0.0s\n",
            "[Parallel(n_jobs=4)]: Done 192 tasks      | elapsed:    0.0s\n",
            "[Parallel(n_jobs=4)]: Done 400 out of 400 | elapsed:    0.0s finished\n"
          ]
        },
        {
          "name": "stdout",
          "output_type": "stream",
          "text": [
            "confusion_matrix: 5\n",
            "confusion_matrix: [[2 2]\n",
            " [3 4]]\n",
            "Accuracy :  0.5454545454545454\n",
            "Sensitivity :  0.5\n",
            "Specificity :  0.5714285714285714\n"
          ]
        },
        {
          "name": "stderr",
          "output_type": "stream",
          "text": [
            "[Parallel(n_jobs=-1)]: Using backend ThreadingBackend with 4 concurrent workers.\n",
            "[Parallel(n_jobs=-1)]: Done  42 tasks      | elapsed:    0.0s\n",
            "[Parallel(n_jobs=-1)]: Done 192 tasks      | elapsed:    0.2s\n",
            "[Parallel(n_jobs=-1)]: Done 400 out of 400 | elapsed:    0.6s finished\n",
            "[Parallel(n_jobs=4)]: Using backend ThreadingBackend with 4 concurrent workers.\n",
            "[Parallel(n_jobs=4)]: Done  42 tasks      | elapsed:    0.0s\n",
            "[Parallel(n_jobs=4)]: Done 192 tasks      | elapsed:    0.0s\n",
            "[Parallel(n_jobs=4)]: Done 400 out of 400 | elapsed:    0.0s finished\n"
          ]
        },
        {
          "name": "stdout",
          "output_type": "stream",
          "text": [
            "confusion_matrix: 6\n",
            "confusion_matrix: [[3 1]\n",
            " [2 5]]\n",
            "Accuracy :  0.7272727272727273\n",
            "Sensitivity :  0.75\n",
            "Specificity :  0.7142857142857143\n"
          ]
        },
        {
          "name": "stderr",
          "output_type": "stream",
          "text": [
            "[Parallel(n_jobs=-1)]: Using backend ThreadingBackend with 4 concurrent workers.\n",
            "[Parallel(n_jobs=-1)]: Done  42 tasks      | elapsed:    0.0s\n",
            "[Parallel(n_jobs=-1)]: Done 192 tasks      | elapsed:    0.2s\n",
            "[Parallel(n_jobs=-1)]: Done 400 out of 400 | elapsed:    0.6s finished\n",
            "[Parallel(n_jobs=4)]: Using backend ThreadingBackend with 4 concurrent workers.\n",
            "[Parallel(n_jobs=4)]: Done  42 tasks      | elapsed:    0.0s\n",
            "[Parallel(n_jobs=4)]: Done 192 tasks      | elapsed:    0.0s\n",
            "[Parallel(n_jobs=4)]: Done 400 out of 400 | elapsed:    0.0s finished\n"
          ]
        },
        {
          "name": "stdout",
          "output_type": "stream",
          "text": [
            "confusion_matrix: 7\n",
            "confusion_matrix: [[2 2]\n",
            " [2 5]]\n",
            "Accuracy :  0.6363636363636364\n",
            "Sensitivity :  0.5\n",
            "Specificity :  0.7142857142857143\n"
          ]
        },
        {
          "name": "stderr",
          "output_type": "stream",
          "text": [
            "[Parallel(n_jobs=-1)]: Using backend ThreadingBackend with 4 concurrent workers.\n",
            "[Parallel(n_jobs=-1)]: Done  42 tasks      | elapsed:    0.0s\n",
            "[Parallel(n_jobs=-1)]: Done 192 tasks      | elapsed:    0.2s\n",
            "[Parallel(n_jobs=-1)]: Done 400 out of 400 | elapsed:    0.6s finished\n",
            "[Parallel(n_jobs=4)]: Using backend ThreadingBackend with 4 concurrent workers.\n",
            "[Parallel(n_jobs=4)]: Done  42 tasks      | elapsed:    0.0s\n",
            "[Parallel(n_jobs=4)]: Done 192 tasks      | elapsed:    0.0s\n",
            "[Parallel(n_jobs=4)]: Done 400 out of 400 | elapsed:    0.0s finished\n"
          ]
        },
        {
          "name": "stdout",
          "output_type": "stream",
          "text": [
            "confusion_matrix: 8\n",
            "confusion_matrix: [[3 2]\n",
            " [1 5]]\n",
            "Accuracy :  0.7272727272727273\n",
            "Sensitivity :  0.6\n",
            "Specificity :  0.8333333333333334\n"
          ]
        },
        {
          "name": "stderr",
          "output_type": "stream",
          "text": [
            "[Parallel(n_jobs=-1)]: Using backend ThreadingBackend with 4 concurrent workers.\n",
            "[Parallel(n_jobs=-1)]: Done  42 tasks      | elapsed:    0.0s\n",
            "[Parallel(n_jobs=-1)]: Done 192 tasks      | elapsed:    0.2s\n"
          ]
        },
        {
          "name": "stdout",
          "output_type": "stream",
          "text": [
            "confusion_matrix: 9\n",
            "confusion_matrix: [[2 2]\n",
            " [2 5]]\n",
            "Accuracy :  0.6363636363636364\n",
            "Sensitivity :  0.5\n",
            "Specificity :  0.7142857142857143\n",
            "\n",
            " \n",
            " best result with 400 is 0.8181818181818182\n"
          ]
        },
        {
          "name": "stderr",
          "output_type": "stream",
          "text": [
            "[Parallel(n_jobs=-1)]: Done 400 out of 400 | elapsed:    0.6s finished\n",
            "[Parallel(n_jobs=4)]: Using backend ThreadingBackend with 4 concurrent workers.\n",
            "[Parallel(n_jobs=4)]: Done  42 tasks      | elapsed:    0.0s\n",
            "[Parallel(n_jobs=4)]: Done 192 tasks      | elapsed:    0.0s\n",
            "[Parallel(n_jobs=4)]: Done 400 out of 400 | elapsed:    0.0s finished\n"
          ]
        }
      ],
      "source": [
        "#RF--3\n",
        "\n",
        "\n",
        "import numpy as np\n",
        "import matplotlib.pyplot as plt\n",
        "from matplotlib.colors import Normalize\n",
        "from sklearn import svm\n",
        "import cv2 as cv\n",
        "\n",
        "from sklearn.svm import SVC\n",
        "from sklearn.preprocessing import StandardScaler\n",
        "from sklearn.datasets import load_iris\n",
        "from sklearn.model_selection import StratifiedShuffleSplit\n",
        "from sklearn.model_selection import GridSearchCV\n",
        "from sklearn import datasets\n",
        "from sklearn.model_selection import train_test_split\n",
        "from sklearn.model_selection import GridSearchCV\n",
        "from sklearn.metrics import classification_report\n",
        "\n",
        "from sklearn.model_selection import cross_val_score\n",
        "from sklearn.model_selection import cross_validate\n",
        "from sklearn.model_selection import KFold\n",
        "\n",
        "#from sklearn.model_selection import cross_validate\n",
        "\n",
        "from sklearn.model_selection import KFold\n",
        "\n",
        "from sklearn.metrics import classification_report, confusion_matrix\n",
        "from sklearn import metrics\n",
        "from sklearn.model_selection import cross_val_score, cross_val_predict\n",
        "from sklearn import metrics\n",
        "from sklearn.ensemble import RandomForestClassifier\n",
        "from sklearn.datasets import make_classification\n",
        "\n",
        "\n",
        "\n",
        "accuracy1=[]\n",
        "\n",
        "X = np.array([\n",
        "\n",
        "[660637 , 239122 , 116133],\n",
        "[626396 , 211031 , 111723],\n",
        "[779738 , 149363 , 239855],\n",
        "[820800 , 98165 , 318429],\n",
        "[880518 , 113981 , 338404],\n",
        "[822090 , 101318 , 320785],\n",
        "[652493 , 166184 , 143048],\n",
        "[761698 , 127907 , 230384],\n",
        "[734188 , 92931 , 257890],\n",
        "[769980 , 100983 , 281726],\n",
        "[867479 , 90298 , 310288],\n",
        "[752041 , 113210 , 245865],\n",
        "[888534 , 145716 , 321371],\n",
        "[741734 , 83734 , 237132],\n",
        "    \n",
        "[656082 , 171539 , 172058],\n",
        "[607415 , 60610 , 140759],\n",
        "[688497 , 71170 , 234119],\n",
        "[739948 , 116774 , 235193],\n",
        "[678953 , 94314 , 190707],\n",
        "[680386 , 55058 , 162511],\n",
        "[706400 , 97178 , 220109],\n",
        "\n",
        "\n",
        "[723340 , 214672 , 155431],\n",
        "[920539 , 141390 , 333481],\n",
        "[834544 , 166777 , 295839],\n",
        "[874739 , 117024 , 349480],\n",
        "\n",
        "\n",
        "[653596 , 201884 , 150713],\n",
        "[824928 , 128115 , 315320],\n",
        "[867649 , 128251 , 345512],\n",
        "[759042 , 99496 , 299523],\n",
        "[776248 , 104115 , 293652],\n",
        "[873569 , 149652 , 314993],\n",
        "[751980 , 131871 , 256686],\n",
        "[812066 , 127176 , 283669],\n",
        "[877417 , 148687 , 321547],\n",
        "[773098 , 105068 , 297077],\n",
        "\n",
        "   ])      \n",
        "             \n",
        "\n",
        "y = np.array([    \n",
        "1,1,1, 1,1,1, 1,1,1, 1,1,1, 1,1, 1,1,1, 1,1,1, 1,0,0, 0,0,0, 0,0,0, 0,0,0, 0,0,0\n",
        "\n",
        "])\n",
        "\n",
        "\n",
        "\n",
        "'''\n",
        "Best parameters found:\n",
        " {'max_depth': 6, 'max_features': 1, 'min_samples_leaf': 1, 'min_samples_split': 3, 'n_estimators': 300}\n",
        "0.8285714285714285\n",
        "\n",
        " {'max_depth': 6, 'max_features': 1, 'min_samples_leaf': 1, 'min_samples_split': 3, 'n_estimators': 400}\n",
        "0.8285714285714285\n",
        "\n",
        "best accuracy 91\n",
        "\n",
        "'''\n",
        "for i in range(10):\n",
        "    X_train, X_test, y_train, y_test = train_test_split(X, y, train_size = 0.7,test_size = 0.3, random_state=i)\n",
        "    svclassifier = RandomForestClassifier(n_estimators=400, max_features=1, n_jobs=-1, verbose=1,max_depth=6)\n",
        "    svclassifier.fit(X_train, y_train)\n",
        "    y_pred = svclassifier.predict(X_test)\n",
        "   #print(y_pred)\n",
        "    print(\"confusion_matrix:\",  i)\n",
        "    cm1 = confusion_matrix(y_test,y_pred)\n",
        "    print(\"confusion_matrix:\",  cm1)\n",
        "    total1=sum(sum(cm1))\n",
        "    Accuracy=(cm1[0,0]+cm1[1,1])/total1\n",
        "    accuracy1 +=[Accuracy]\n",
        "    print ('Accuracy : ', Accuracy)\n",
        "    sensitivity1 = cm1[0,0]/(cm1[0,0]+cm1[0,1])\n",
        "    print('Sensitivity : ', sensitivity1 )\n",
        "    specificity1 = cm1[1,1]/(cm1[1,0]+cm1[1,1])\n",
        "    print('Specificity : ', specificity1)\n",
        "print('\\n \\n best result with 400 is',max(accuracy1))\n",
        "    "
      ]
    },
    {
      "cell_type": "code",
      "execution_count": null,
      "metadata": {
        "id": "EA5Xls6LnKKu",
        "outputId": "76227a27-73ed-4fec-8aaa-45c86cf9406a"
      },
      "outputs": [
        {
          "name": "stderr",
          "output_type": "stream",
          "text": [
            "[Parallel(n_jobs=-1)]: Using backend ThreadingBackend with 4 concurrent workers.\n",
            "[Parallel(n_jobs=-1)]: Done  42 tasks      | elapsed:    0.0s\n",
            "[Parallel(n_jobs=-1)]: Done 192 tasks      | elapsed:    0.2s\n",
            "[Parallel(n_jobs=-1)]: Done 200 out of 200 | elapsed:    0.2s finished\n",
            "[Parallel(n_jobs=4)]: Using backend ThreadingBackend with 4 concurrent workers.\n",
            "[Parallel(n_jobs=4)]: Done  42 tasks      | elapsed:    0.0s\n",
            "[Parallel(n_jobs=4)]: Done 192 tasks      | elapsed:    0.0s\n",
            "[Parallel(n_jobs=4)]: Done 200 out of 200 | elapsed:    0.0s finished\n",
            "[Parallel(n_jobs=-1)]: Using backend ThreadingBackend with 4 concurrent workers.\n"
          ]
        },
        {
          "name": "stdout",
          "output_type": "stream",
          "text": [
            "confusion_matrix: 0\n",
            "confusion_matrix: [[2 3]\n",
            " [1 5]]\n",
            "Accuracy :  0.6363636363636364\n",
            "Sensitivity :  0.4\n",
            "Specificity :  0.8333333333333334\n"
          ]
        },
        {
          "name": "stderr",
          "output_type": "stream",
          "text": [
            "[Parallel(n_jobs=-1)]: Done  42 tasks      | elapsed:    0.0s\n",
            "[Parallel(n_jobs=-1)]: Done 192 tasks      | elapsed:    0.3s\n",
            "[Parallel(n_jobs=-1)]: Done 200 out of 200 | elapsed:    0.3s finished\n",
            "[Parallel(n_jobs=4)]: Using backend ThreadingBackend with 4 concurrent workers.\n",
            "[Parallel(n_jobs=4)]: Done  42 tasks      | elapsed:    0.0s\n",
            "[Parallel(n_jobs=4)]: Done 192 tasks      | elapsed:    0.0s\n",
            "[Parallel(n_jobs=4)]: Done 200 out of 200 | elapsed:    0.0s finished\n"
          ]
        },
        {
          "name": "stdout",
          "output_type": "stream",
          "text": [
            "confusion_matrix: 1\n",
            "confusion_matrix: [[5 2]\n",
            " [1 3]]\n",
            "Accuracy :  0.7272727272727273\n",
            "Sensitivity :  0.7142857142857143\n",
            "Specificity :  0.75\n"
          ]
        },
        {
          "name": "stderr",
          "output_type": "stream",
          "text": [
            "[Parallel(n_jobs=-1)]: Using backend ThreadingBackend with 4 concurrent workers.\n",
            "[Parallel(n_jobs=-1)]: Done  42 tasks      | elapsed:    0.0s\n",
            "[Parallel(n_jobs=-1)]: Done 192 tasks      | elapsed:    0.2s\n",
            "[Parallel(n_jobs=-1)]: Done 200 out of 200 | elapsed:    0.2s finished\n",
            "[Parallel(n_jobs=4)]: Using backend ThreadingBackend with 4 concurrent workers.\n",
            "[Parallel(n_jobs=4)]: Done  42 tasks      | elapsed:    0.0s\n",
            "[Parallel(n_jobs=4)]: Done 192 tasks      | elapsed:    0.0s\n",
            "[Parallel(n_jobs=4)]: Done 200 out of 200 | elapsed:    0.0s finished\n"
          ]
        },
        {
          "name": "stdout",
          "output_type": "stream",
          "text": [
            "confusion_matrix: 2\n",
            "confusion_matrix: [[2 1]\n",
            " [3 5]]\n",
            "Accuracy :  0.6363636363636364\n",
            "Sensitivity :  0.6666666666666666\n",
            "Specificity :  0.625\n"
          ]
        },
        {
          "name": "stderr",
          "output_type": "stream",
          "text": [
            "[Parallel(n_jobs=-1)]: Using backend ThreadingBackend with 4 concurrent workers.\n",
            "[Parallel(n_jobs=-1)]: Done  42 tasks      | elapsed:    0.0s\n",
            "[Parallel(n_jobs=-1)]: Done 192 tasks      | elapsed:    0.3s\n",
            "[Parallel(n_jobs=-1)]: Done 200 out of 200 | elapsed:    0.3s finished\n",
            "[Parallel(n_jobs=4)]: Using backend ThreadingBackend with 4 concurrent workers.\n",
            "[Parallel(n_jobs=4)]: Done  42 tasks      | elapsed:    0.0s\n",
            "[Parallel(n_jobs=4)]: Done 192 tasks      | elapsed:    0.0s\n",
            "[Parallel(n_jobs=4)]: Done 200 out of 200 | elapsed:    0.0s finished\n"
          ]
        },
        {
          "name": "stdout",
          "output_type": "stream",
          "text": [
            "confusion_matrix: 3\n",
            "confusion_matrix: [[4 0]\n",
            " [2 5]]\n",
            "Accuracy :  0.8181818181818182\n",
            "Sensitivity :  1.0\n",
            "Specificity :  0.7142857142857143\n"
          ]
        },
        {
          "name": "stderr",
          "output_type": "stream",
          "text": [
            "[Parallel(n_jobs=-1)]: Using backend ThreadingBackend with 4 concurrent workers.\n",
            "[Parallel(n_jobs=-1)]: Done  42 tasks      | elapsed:    0.0s\n",
            "[Parallel(n_jobs=-1)]: Done 192 tasks      | elapsed:    0.2s\n",
            "[Parallel(n_jobs=-1)]: Done 200 out of 200 | elapsed:    0.3s finished\n",
            "[Parallel(n_jobs=4)]: Using backend ThreadingBackend with 4 concurrent workers.\n",
            "[Parallel(n_jobs=4)]: Done  42 tasks      | elapsed:    0.0s\n",
            "[Parallel(n_jobs=4)]: Done 192 tasks      | elapsed:    0.0s\n",
            "[Parallel(n_jobs=4)]: Done 200 out of 200 | elapsed:    0.0s finished\n"
          ]
        },
        {
          "name": "stdout",
          "output_type": "stream",
          "text": [
            "confusion_matrix: 4\n",
            "confusion_matrix: [[1 4]\n",
            " [1 5]]\n",
            "Accuracy :  0.5454545454545454\n",
            "Sensitivity :  0.2\n",
            "Specificity :  0.8333333333333334\n"
          ]
        },
        {
          "name": "stderr",
          "output_type": "stream",
          "text": [
            "[Parallel(n_jobs=-1)]: Using backend ThreadingBackend with 4 concurrent workers.\n",
            "[Parallel(n_jobs=-1)]: Done  42 tasks      | elapsed:    0.0s\n",
            "[Parallel(n_jobs=-1)]: Done 192 tasks      | elapsed:    0.3s\n",
            "[Parallel(n_jobs=-1)]: Done 200 out of 200 | elapsed:    0.3s finished\n",
            "[Parallel(n_jobs=4)]: Using backend ThreadingBackend with 4 concurrent workers.\n",
            "[Parallel(n_jobs=4)]: Done  42 tasks      | elapsed:    0.0s\n",
            "[Parallel(n_jobs=4)]: Done 192 tasks      | elapsed:    0.0s\n",
            "[Parallel(n_jobs=4)]: Done 200 out of 200 | elapsed:    0.0s finished\n"
          ]
        },
        {
          "name": "stdout",
          "output_type": "stream",
          "text": [
            "confusion_matrix: 5\n",
            "confusion_matrix: [[2 2]\n",
            " [3 4]]\n",
            "Accuracy :  0.5454545454545454\n",
            "Sensitivity :  0.5\n",
            "Specificity :  0.5714285714285714\n"
          ]
        },
        {
          "name": "stderr",
          "output_type": "stream",
          "text": [
            "[Parallel(n_jobs=-1)]: Using backend ThreadingBackend with 4 concurrent workers.\n",
            "[Parallel(n_jobs=-1)]: Done  42 tasks      | elapsed:    0.0s\n",
            "[Parallel(n_jobs=-1)]: Done 192 tasks      | elapsed:    0.3s\n",
            "[Parallel(n_jobs=-1)]: Done 200 out of 200 | elapsed:    0.3s finished\n",
            "[Parallel(n_jobs=4)]: Using backend ThreadingBackend with 4 concurrent workers.\n",
            "[Parallel(n_jobs=4)]: Done  42 tasks      | elapsed:    0.0s\n",
            "[Parallel(n_jobs=4)]: Done 192 tasks      | elapsed:    0.0s\n",
            "[Parallel(n_jobs=4)]: Done 200 out of 200 | elapsed:    0.0s finished\n"
          ]
        },
        {
          "name": "stdout",
          "output_type": "stream",
          "text": [
            "confusion_matrix: 6\n",
            "confusion_matrix: [[4 0]\n",
            " [1 6]]\n",
            "Accuracy :  0.9090909090909091\n",
            "Sensitivity :  1.0\n",
            "Specificity :  0.8571428571428571\n"
          ]
        },
        {
          "name": "stderr",
          "output_type": "stream",
          "text": [
            "[Parallel(n_jobs=-1)]: Using backend ThreadingBackend with 4 concurrent workers.\n",
            "[Parallel(n_jobs=-1)]: Done  42 tasks      | elapsed:    0.0s\n",
            "[Parallel(n_jobs=-1)]: Done 192 tasks      | elapsed:    0.3s\n",
            "[Parallel(n_jobs=-1)]: Done 200 out of 200 | elapsed:    0.3s finished\n",
            "[Parallel(n_jobs=4)]: Using backend ThreadingBackend with 4 concurrent workers.\n",
            "[Parallel(n_jobs=4)]: Done  42 tasks      | elapsed:    0.0s\n",
            "[Parallel(n_jobs=4)]: Done 192 tasks      | elapsed:    0.0s\n",
            "[Parallel(n_jobs=4)]: Done 200 out of 200 | elapsed:    0.0s finished\n"
          ]
        },
        {
          "name": "stdout",
          "output_type": "stream",
          "text": [
            "confusion_matrix: 7\n",
            "confusion_matrix: [[2 2]\n",
            " [2 5]]\n",
            "Accuracy :  0.6363636363636364\n",
            "Sensitivity :  0.5\n",
            "Specificity :  0.7142857142857143\n"
          ]
        },
        {
          "name": "stderr",
          "output_type": "stream",
          "text": [
            "[Parallel(n_jobs=-1)]: Using backend ThreadingBackend with 4 concurrent workers.\n",
            "[Parallel(n_jobs=-1)]: Done  42 tasks      | elapsed:    0.0s\n",
            "[Parallel(n_jobs=-1)]: Done 192 tasks      | elapsed:    0.2s\n",
            "[Parallel(n_jobs=-1)]: Done 200 out of 200 | elapsed:    0.2s finished\n",
            "[Parallel(n_jobs=4)]: Using backend ThreadingBackend with 4 concurrent workers.\n",
            "[Parallel(n_jobs=4)]: Done  42 tasks      | elapsed:    0.0s\n",
            "[Parallel(n_jobs=4)]: Done 192 tasks      | elapsed:    0.0s\n",
            "[Parallel(n_jobs=4)]: Done 200 out of 200 | elapsed:    0.0s finished\n"
          ]
        },
        {
          "name": "stdout",
          "output_type": "stream",
          "text": [
            "confusion_matrix: 8\n",
            "confusion_matrix: [[3 2]\n",
            " [1 5]]\n",
            "Accuracy :  0.7272727272727273\n",
            "Sensitivity :  0.6\n",
            "Specificity :  0.8333333333333334\n"
          ]
        },
        {
          "name": "stderr",
          "output_type": "stream",
          "text": [
            "[Parallel(n_jobs=-1)]: Using backend ThreadingBackend with 4 concurrent workers.\n",
            "[Parallel(n_jobs=-1)]: Done  42 tasks      | elapsed:    0.0s\n",
            "[Parallel(n_jobs=-1)]: Done 192 tasks      | elapsed:    0.2s\n",
            "[Parallel(n_jobs=-1)]: Done 200 out of 200 | elapsed:    0.2s finished\n",
            "[Parallel(n_jobs=4)]: Using backend ThreadingBackend with 4 concurrent workers.\n",
            "[Parallel(n_jobs=4)]: Done  42 tasks      | elapsed:    0.0s\n",
            "[Parallel(n_jobs=4)]: Done 192 tasks      | elapsed:    0.0s\n",
            "[Parallel(n_jobs=4)]: Done 200 out of 200 | elapsed:    0.0s finished\n"
          ]
        },
        {
          "name": "stdout",
          "output_type": "stream",
          "text": [
            "confusion_matrix: 9\n",
            "confusion_matrix: [[2 2]\n",
            " [2 5]]\n",
            "Accuracy :  0.6363636363636364\n",
            "Sensitivity :  0.5\n",
            "Specificity :  0.7142857142857143\n",
            "\n",
            " \n",
            " best result with 200 estimators is 0.9090909090909091\n"
          ]
        }
      ],
      "source": [
        "#RF\n",
        "\n",
        "\n",
        "import numpy as np\n",
        "import matplotlib.pyplot as plt\n",
        "from matplotlib.colors import Normalize\n",
        "from sklearn import svm\n",
        "import cv2 as cv\n",
        "\n",
        "from sklearn.svm import SVC\n",
        "from sklearn.preprocessing import StandardScaler\n",
        "from sklearn.datasets import load_iris\n",
        "from sklearn.model_selection import StratifiedShuffleSplit\n",
        "from sklearn.model_selection import GridSearchCV\n",
        "from sklearn import datasets\n",
        "from sklearn.model_selection import train_test_split\n",
        "from sklearn.model_selection import GridSearchCV\n",
        "from sklearn.metrics import classification_report\n",
        "\n",
        "from sklearn.model_selection import cross_val_score\n",
        "from sklearn.model_selection import cross_validate\n",
        "from sklearn.model_selection import KFold\n",
        "\n",
        "#from sklearn.model_selection import cross_validate\n",
        "\n",
        "from sklearn.model_selection import KFold\n",
        "\n",
        "from sklearn.metrics import classification_report, confusion_matrix\n",
        "from sklearn import metrics\n",
        "from sklearn.model_selection import cross_val_score, cross_val_predict\n",
        "from sklearn import metrics\n",
        "from sklearn.ensemble import RandomForestClassifier\n",
        "from sklearn.datasets import make_classification\n",
        "\n",
        "accuracy1=[]\n",
        "\n",
        "X = np.array([\n",
        "\n",
        "[660637 , 239122 , 116133],\n",
        "[626396 , 211031 , 111723],\n",
        "[779738 , 149363 , 239855],\n",
        "[820800 , 98165 , 318429],\n",
        "[880518 , 113981 , 338404],\n",
        "[822090 , 101318 , 320785],\n",
        "[652493 , 166184 , 143048],\n",
        "[761698 , 127907 , 230384],\n",
        "[734188 , 92931 , 257890],\n",
        "[769980 , 100983 , 281726],\n",
        "[867479 , 90298 , 310288],\n",
        "[752041 , 113210 , 245865],\n",
        "[888534 , 145716 , 321371],\n",
        "[741734 , 83734 , 237132],\n",
        "    \n",
        "[656082 , 171539 , 172058],\n",
        "[607415 , 60610 , 140759],\n",
        "[688497 , 71170 , 234119],\n",
        "[739948 , 116774 , 235193],\n",
        "[678953 , 94314 , 190707],\n",
        "[680386 , 55058 , 162511],\n",
        "[706400 , 97178 , 220109],\n",
        "\n",
        "\n",
        "[723340 , 214672 , 155431],\n",
        "[920539 , 141390 , 333481],\n",
        "[834544 , 166777 , 295839],\n",
        "[874739 , 117024 , 349480],\n",
        "\n",
        "\n",
        "[653596 , 201884 , 150713],\n",
        "[824928 , 128115 , 315320],\n",
        "[867649 , 128251 , 345512],\n",
        "[759042 , 99496 , 299523],\n",
        "[776248 , 104115 , 293652],\n",
        "[873569 , 149652 , 314993],\n",
        "[751980 , 131871 , 256686],\n",
        "[812066 , 127176 , 283669],\n",
        "[877417 , 148687 , 321547],\n",
        "[773098 , 105068 , 297077],\n",
        "\n",
        "   ])      \n",
        "             \n",
        "\n",
        "y = np.array([    \n",
        "1,1,1, 1,1,1, 1,1,1, 1,1,1, 1,1, 1,1,1, 1,1,1, 1,0,0, 0,0,0, 0,0,0, 0,0,0, 0,0,0\n",
        "\n",
        "])\n",
        "\n",
        "\n",
        "\n",
        "'''\n",
        "Best parameters found:\n",
        " {'max_depth': 6, 'max_features': 1, 'min_samples_leaf': 1, 'min_samples_split': 3, 'n_estimators': 300}\n",
        "0.8285714285714285\n",
        "\n",
        " {'max_depth': 6, 'max_features': 1, 'min_samples_leaf': 1, 'min_samples_split': 3, 'n_estimators': 400}\n",
        "0.8285714285714285\n",
        "\n",
        "result accuracy 81\n",
        "\n",
        "'''\n",
        "for i in range(10):\n",
        "    X_train, X_test, y_train, y_test = train_test_split(X, y, train_size = 0.7,test_size = 0.3, random_state=i)\n",
        "    svclassifier = RandomForestClassifier(n_estimators=200, max_features=1, n_jobs=-1, verbose=1,max_depth=6)\n",
        "    svclassifier.fit(X_train, y_train)\n",
        "    y_pred = svclassifier.predict(X_test)\n",
        "   #print(y_pred)\n",
        "    print(\"confusion_matrix:\",  i)\n",
        "    cm1 = confusion_matrix(y_test,y_pred)\n",
        "    print(\"confusion_matrix:\",  cm1)\n",
        "    total1=sum(sum(cm1))\n",
        "    Accuracy=(cm1[0,0]+cm1[1,1])/total1\n",
        "    accuracy1 +=[Accuracy]\n",
        "    print ('Accuracy : ', Accuracy)\n",
        "    sensitivity1 = cm1[0,0]/(cm1[0,0]+cm1[0,1])\n",
        "    print('Sensitivity : ', sensitivity1 )\n",
        "    specificity1 = cm1[1,1]/(cm1[1,0]+cm1[1,1])\n",
        "    print('Specificity : ', specificity1)\n",
        "print('\\n \\n best result with 200 estimators is',max(accuracy1))"
      ]
    },
    {
      "cell_type": "code",
      "execution_count": null,
      "metadata": {
        "scrolled": false,
        "id": "wivFbfAsnKKw",
        "outputId": "45e106ed-513b-4d71-8a16-d0488d8ba3af"
      },
      "outputs": [
        {
          "name": "stderr",
          "output_type": "stream",
          "text": [
            "[Parallel(n_jobs=-1)]: Using backend ThreadingBackend with 4 concurrent workers.\n",
            "[Parallel(n_jobs=-1)]: Done  42 tasks      | elapsed:    0.0s\n",
            "[Parallel(n_jobs=-1)]: Done 192 tasks      | elapsed:    0.3s\n",
            "[Parallel(n_jobs=-1)]: Done 442 tasks      | elapsed:    0.7s\n",
            "[Parallel(n_jobs=-1)]: Done 600 out of 600 | elapsed:    0.9s finished\n",
            "[Parallel(n_jobs=4)]: Using backend ThreadingBackend with 4 concurrent workers.\n",
            "[Parallel(n_jobs=4)]: Done  42 tasks      | elapsed:    0.0s\n",
            "[Parallel(n_jobs=4)]: Done 192 tasks      | elapsed:    0.0s\n",
            "[Parallel(n_jobs=4)]: Done 442 tasks      | elapsed:    0.0s\n",
            "[Parallel(n_jobs=4)]: Done 600 out of 600 | elapsed:    0.0s finished\n"
          ]
        },
        {
          "name": "stdout",
          "output_type": "stream",
          "text": [
            "confusion_matrix: 0\n",
            "confusion_matrix: [[2 3]\n",
            " [0 6]]\n",
            "Accuracy :  0.7272727272727273\n",
            "Sensitivity :  0.4\n",
            "Specificity :  1.0\n"
          ]
        },
        {
          "name": "stderr",
          "output_type": "stream",
          "text": [
            "[Parallel(n_jobs=-1)]: Using backend ThreadingBackend with 4 concurrent workers.\n",
            "[Parallel(n_jobs=-1)]: Done  42 tasks      | elapsed:    0.0s\n",
            "[Parallel(n_jobs=-1)]: Done 192 tasks      | elapsed:    0.3s\n",
            "[Parallel(n_jobs=-1)]: Done 442 tasks      | elapsed:    0.7s\n",
            "[Parallel(n_jobs=-1)]: Done 600 out of 600 | elapsed:    1.0s finished\n",
            "[Parallel(n_jobs=4)]: Using backend ThreadingBackend with 4 concurrent workers.\n",
            "[Parallel(n_jobs=4)]: Done  42 tasks      | elapsed:    0.0s\n",
            "[Parallel(n_jobs=4)]: Done 192 tasks      | elapsed:    0.0s\n",
            "[Parallel(n_jobs=4)]: Done 442 tasks      | elapsed:    0.0s\n",
            "[Parallel(n_jobs=4)]: Done 600 out of 600 | elapsed:    0.0s finished\n"
          ]
        },
        {
          "name": "stdout",
          "output_type": "stream",
          "text": [
            "confusion_matrix: 1\n",
            "confusion_matrix: [[5 2]\n",
            " [1 3]]\n",
            "Accuracy :  0.7272727272727273\n",
            "Sensitivity :  0.7142857142857143\n",
            "Specificity :  0.75\n"
          ]
        },
        {
          "name": "stderr",
          "output_type": "stream",
          "text": [
            "[Parallel(n_jobs=-1)]: Using backend ThreadingBackend with 4 concurrent workers.\n",
            "[Parallel(n_jobs=-1)]: Done  42 tasks      | elapsed:    0.0s\n",
            "[Parallel(n_jobs=-1)]: Done 192 tasks      | elapsed:    0.2s\n",
            "[Parallel(n_jobs=-1)]: Done 442 tasks      | elapsed:    0.6s\n",
            "[Parallel(n_jobs=-1)]: Done 600 out of 600 | elapsed:    0.9s finished\n",
            "[Parallel(n_jobs=4)]: Using backend ThreadingBackend with 4 concurrent workers.\n",
            "[Parallel(n_jobs=4)]: Done  42 tasks      | elapsed:    0.0s\n",
            "[Parallel(n_jobs=4)]: Done 192 tasks      | elapsed:    0.0s\n",
            "[Parallel(n_jobs=4)]: Done 442 tasks      | elapsed:    0.0s\n",
            "[Parallel(n_jobs=4)]: Done 600 out of 600 | elapsed:    0.0s finished\n"
          ]
        },
        {
          "name": "stdout",
          "output_type": "stream",
          "text": [
            "confusion_matrix: 2\n",
            "confusion_matrix: [[2 1]\n",
            " [5 3]]\n",
            "Accuracy :  0.45454545454545453\n",
            "Sensitivity :  0.6666666666666666\n",
            "Specificity :  0.375\n"
          ]
        },
        {
          "name": "stderr",
          "output_type": "stream",
          "text": [
            "[Parallel(n_jobs=-1)]: Using backend ThreadingBackend with 4 concurrent workers.\n",
            "[Parallel(n_jobs=-1)]: Done  42 tasks      | elapsed:    0.0s\n",
            "[Parallel(n_jobs=-1)]: Done 192 tasks      | elapsed:    0.3s\n",
            "[Parallel(n_jobs=-1)]: Done 442 tasks      | elapsed:    0.7s\n",
            "[Parallel(n_jobs=-1)]: Done 600 out of 600 | elapsed:    0.9s finished\n",
            "[Parallel(n_jobs=4)]: Using backend ThreadingBackend with 4 concurrent workers.\n",
            "[Parallel(n_jobs=4)]: Done  42 tasks      | elapsed:    0.0s\n",
            "[Parallel(n_jobs=4)]: Done 192 tasks      | elapsed:    0.0s\n",
            "[Parallel(n_jobs=4)]: Done 442 tasks      | elapsed:    0.0s\n",
            "[Parallel(n_jobs=4)]: Done 600 out of 600 | elapsed:    0.0s finished\n"
          ]
        },
        {
          "name": "stdout",
          "output_type": "stream",
          "text": [
            "confusion_matrix: 3\n",
            "confusion_matrix: [[4 0]\n",
            " [1 6]]\n",
            "Accuracy :  0.9090909090909091\n",
            "Sensitivity :  1.0\n",
            "Specificity :  0.8571428571428571\n"
          ]
        },
        {
          "name": "stderr",
          "output_type": "stream",
          "text": [
            "[Parallel(n_jobs=-1)]: Using backend ThreadingBackend with 4 concurrent workers.\n",
            "[Parallel(n_jobs=-1)]: Done  42 tasks      | elapsed:    0.0s\n",
            "[Parallel(n_jobs=-1)]: Done 192 tasks      | elapsed:    0.3s\n",
            "[Parallel(n_jobs=-1)]: Done 442 tasks      | elapsed:    0.7s\n",
            "[Parallel(n_jobs=-1)]: Done 600 out of 600 | elapsed:    0.9s finished\n",
            "[Parallel(n_jobs=4)]: Using backend ThreadingBackend with 4 concurrent workers.\n",
            "[Parallel(n_jobs=4)]: Done  42 tasks      | elapsed:    0.0s\n",
            "[Parallel(n_jobs=4)]: Done 192 tasks      | elapsed:    0.0s\n",
            "[Parallel(n_jobs=4)]: Done 442 tasks      | elapsed:    0.0s\n",
            "[Parallel(n_jobs=4)]: Done 600 out of 600 | elapsed:    0.0s finished\n"
          ]
        },
        {
          "name": "stdout",
          "output_type": "stream",
          "text": [
            "confusion_matrix: 4\n",
            "confusion_matrix: [[0 5]\n",
            " [1 5]]\n",
            "Accuracy :  0.45454545454545453\n",
            "Sensitivity :  0.0\n",
            "Specificity :  0.8333333333333334\n"
          ]
        },
        {
          "name": "stderr",
          "output_type": "stream",
          "text": [
            "[Parallel(n_jobs=-1)]: Using backend ThreadingBackend with 4 concurrent workers.\n",
            "[Parallel(n_jobs=-1)]: Done  42 tasks      | elapsed:    0.0s\n",
            "[Parallel(n_jobs=-1)]: Done 192 tasks      | elapsed:    0.3s\n",
            "[Parallel(n_jobs=-1)]: Done 442 tasks      | elapsed:    0.7s\n",
            "[Parallel(n_jobs=-1)]: Done 600 out of 600 | elapsed:    0.9s finished\n",
            "[Parallel(n_jobs=4)]: Using backend ThreadingBackend with 4 concurrent workers.\n",
            "[Parallel(n_jobs=4)]: Done  42 tasks      | elapsed:    0.0s\n",
            "[Parallel(n_jobs=4)]: Done 192 tasks      | elapsed:    0.0s\n",
            "[Parallel(n_jobs=4)]: Done 442 tasks      | elapsed:    0.0s\n",
            "[Parallel(n_jobs=4)]: Done 600 out of 600 | elapsed:    0.1s finished\n"
          ]
        },
        {
          "name": "stdout",
          "output_type": "stream",
          "text": [
            "confusion_matrix: 5\n",
            "confusion_matrix: [[2 2]\n",
            " [4 3]]\n",
            "Accuracy :  0.45454545454545453\n",
            "Sensitivity :  0.5\n",
            "Specificity :  0.42857142857142855\n"
          ]
        },
        {
          "name": "stderr",
          "output_type": "stream",
          "text": [
            "[Parallel(n_jobs=-1)]: Using backend ThreadingBackend with 4 concurrent workers.\n",
            "[Parallel(n_jobs=-1)]: Done  42 tasks      | elapsed:    0.0s\n",
            "[Parallel(n_jobs=-1)]: Done 192 tasks      | elapsed:    0.3s\n",
            "[Parallel(n_jobs=-1)]: Done 442 tasks      | elapsed:    0.7s\n",
            "[Parallel(n_jobs=-1)]: Done 600 out of 600 | elapsed:    1.0s finished\n",
            "[Parallel(n_jobs=4)]: Using backend ThreadingBackend with 4 concurrent workers.\n",
            "[Parallel(n_jobs=4)]: Done  42 tasks      | elapsed:    0.0s\n",
            "[Parallel(n_jobs=4)]: Done 192 tasks      | elapsed:    0.0s\n",
            "[Parallel(n_jobs=4)]: Done 442 tasks      | elapsed:    0.0s\n",
            "[Parallel(n_jobs=4)]: Done 600 out of 600 | elapsed:    0.0s finished\n"
          ]
        },
        {
          "name": "stdout",
          "output_type": "stream",
          "text": [
            "confusion_matrix: 6\n",
            "confusion_matrix: [[3 1]\n",
            " [1 6]]\n",
            "Accuracy :  0.8181818181818182\n",
            "Sensitivity :  0.75\n",
            "Specificity :  0.8571428571428571\n"
          ]
        },
        {
          "name": "stderr",
          "output_type": "stream",
          "text": [
            "[Parallel(n_jobs=-1)]: Using backend ThreadingBackend with 4 concurrent workers.\n",
            "[Parallel(n_jobs=-1)]: Done  42 tasks      | elapsed:    0.0s\n",
            "[Parallel(n_jobs=-1)]: Done 192 tasks      | elapsed:    0.2s\n",
            "[Parallel(n_jobs=-1)]: Done 442 tasks      | elapsed:    0.6s\n",
            "[Parallel(n_jobs=-1)]: Done 600 out of 600 | elapsed:    0.9s finished\n",
            "[Parallel(n_jobs=4)]: Using backend ThreadingBackend with 4 concurrent workers.\n",
            "[Parallel(n_jobs=4)]: Done  42 tasks      | elapsed:    0.0s\n",
            "[Parallel(n_jobs=4)]: Done 192 tasks      | elapsed:    0.0s\n",
            "[Parallel(n_jobs=4)]: Done 442 tasks      | elapsed:    0.0s\n",
            "[Parallel(n_jobs=4)]: Done 600 out of 600 | elapsed:    0.1s finished\n"
          ]
        },
        {
          "name": "stdout",
          "output_type": "stream",
          "text": [
            "confusion_matrix: 7\n",
            "confusion_matrix: [[2 2]\n",
            " [2 5]]\n",
            "Accuracy :  0.6363636363636364\n",
            "Sensitivity :  0.5\n",
            "Specificity :  0.7142857142857143\n"
          ]
        },
        {
          "name": "stderr",
          "output_type": "stream",
          "text": [
            "[Parallel(n_jobs=-1)]: Using backend ThreadingBackend with 4 concurrent workers.\n",
            "[Parallel(n_jobs=-1)]: Done  42 tasks      | elapsed:    0.0s\n",
            "[Parallel(n_jobs=-1)]: Done 192 tasks      | elapsed:    0.2s\n",
            "[Parallel(n_jobs=-1)]: Done 442 tasks      | elapsed:    0.6s\n",
            "[Parallel(n_jobs=-1)]: Done 600 out of 600 | elapsed:    0.9s finished\n",
            "[Parallel(n_jobs=4)]: Using backend ThreadingBackend with 4 concurrent workers.\n",
            "[Parallel(n_jobs=4)]: Done  42 tasks      | elapsed:    0.0s\n",
            "[Parallel(n_jobs=4)]: Done 192 tasks      | elapsed:    0.0s\n",
            "[Parallel(n_jobs=4)]: Done 442 tasks      | elapsed:    0.0s\n",
            "[Parallel(n_jobs=4)]: Done 600 out of 600 | elapsed:    0.0s finished\n"
          ]
        },
        {
          "name": "stdout",
          "output_type": "stream",
          "text": [
            "confusion_matrix: 8\n",
            "confusion_matrix: [[3 2]\n",
            " [1 5]]\n",
            "Accuracy :  0.7272727272727273\n",
            "Sensitivity :  0.6\n",
            "Specificity :  0.8333333333333334\n"
          ]
        },
        {
          "name": "stderr",
          "output_type": "stream",
          "text": [
            "[Parallel(n_jobs=-1)]: Using backend ThreadingBackend with 4 concurrent workers.\n",
            "[Parallel(n_jobs=-1)]: Done  42 tasks      | elapsed:    0.0s\n",
            "[Parallel(n_jobs=-1)]: Done 192 tasks      | elapsed:    0.2s\n",
            "[Parallel(n_jobs=-1)]: Done 442 tasks      | elapsed:    0.6s\n",
            "[Parallel(n_jobs=-1)]: Done 600 out of 600 | elapsed:    0.9s finished\n",
            "[Parallel(n_jobs=4)]: Using backend ThreadingBackend with 4 concurrent workers.\n",
            "[Parallel(n_jobs=4)]: Done  42 tasks      | elapsed:    0.0s\n",
            "[Parallel(n_jobs=4)]: Done 192 tasks      | elapsed:    0.0s\n",
            "[Parallel(n_jobs=4)]: Done 442 tasks      | elapsed:    0.0s\n",
            "[Parallel(n_jobs=4)]: Done 600 out of 600 | elapsed:    0.0s finished\n"
          ]
        },
        {
          "name": "stdout",
          "output_type": "stream",
          "text": [
            "confusion_matrix: 9\n",
            "confusion_matrix: [[2 2]\n",
            " [2 5]]\n",
            "Accuracy :  0.6363636363636364\n",
            "Sensitivity :  0.5\n",
            "Specificity :  0.7142857142857143\n",
            "\n",
            " \n",
            " best result with 600 estimators is 0.9090909090909091\n"
          ]
        }
      ],
      "source": [
        "#RF\n",
        "\n",
        "\n",
        "import numpy as np\n",
        "import matplotlib.pyplot as plt\n",
        "from matplotlib.colors import Normalize\n",
        "from sklearn import svm\n",
        "import cv2 as cv\n",
        "\n",
        "from sklearn.svm import SVC\n",
        "from sklearn.preprocessing import StandardScaler\n",
        "from sklearn.datasets import load_iris\n",
        "from sklearn.model_selection import StratifiedShuffleSplit\n",
        "from sklearn.model_selection import GridSearchCV\n",
        "from sklearn import datasets\n",
        "from sklearn.model_selection import train_test_split\n",
        "from sklearn.model_selection import GridSearchCV\n",
        "from sklearn.metrics import classification_report\n",
        "\n",
        "from sklearn.model_selection import cross_val_score\n",
        "from sklearn.model_selection import cross_validate\n",
        "from sklearn.model_selection import KFold\n",
        "\n",
        "#from sklearn.model_selection import cross_validate\n",
        "\n",
        "from sklearn.model_selection import KFold\n",
        "\n",
        "from sklearn.metrics import classification_report, confusion_matrix\n",
        "from sklearn import metrics\n",
        "from sklearn.model_selection import cross_val_score, cross_val_predict\n",
        "from sklearn import metrics\n",
        "from sklearn.ensemble import RandomForestClassifier\n",
        "from sklearn.datasets import make_classification\n",
        "\n",
        "accuracy1=[]\n",
        "\n",
        "X = np.array([\n",
        "\n",
        "[660637 , 239122 , 116133],\n",
        "[626396 , 211031 , 111723],\n",
        "[779738 , 149363 , 239855],\n",
        "[820800 , 98165 , 318429],\n",
        "[880518 , 113981 , 338404],\n",
        "[822090 , 101318 , 320785],\n",
        "[652493 , 166184 , 143048],\n",
        "[761698 , 127907 , 230384],\n",
        "[734188 , 92931 , 257890],\n",
        "[769980 , 100983 , 281726],\n",
        "[867479 , 90298 , 310288],\n",
        "[752041 , 113210 , 245865],\n",
        "[888534 , 145716 , 321371],\n",
        "[741734 , 83734 , 237132],\n",
        "    \n",
        "[656082 , 171539 , 172058],\n",
        "[607415 , 60610 , 140759],\n",
        "[688497 , 71170 , 234119],\n",
        "[739948 , 116774 , 235193],\n",
        "[678953 , 94314 , 190707],\n",
        "[680386 , 55058 , 162511],\n",
        "[706400 , 97178 , 220109],\n",
        "\n",
        "\n",
        "[723340 , 214672 , 155431],\n",
        "[920539 , 141390 , 333481],\n",
        "[834544 , 166777 , 295839],\n",
        "[874739 , 117024 , 349480],\n",
        "\n",
        "\n",
        "[653596 , 201884 , 150713],\n",
        "[824928 , 128115 , 315320],\n",
        "[867649 , 128251 , 345512],\n",
        "[759042 , 99496 , 299523],\n",
        "[776248 , 104115 , 293652],\n",
        "[873569 , 149652 , 314993],\n",
        "[751980 , 131871 , 256686],\n",
        "[812066 , 127176 , 283669],\n",
        "[877417 , 148687 , 321547],\n",
        "[773098 , 105068 , 297077],\n",
        "\n",
        "   ])      \n",
        "             \n",
        "\n",
        "y = np.array([    \n",
        "1,1,1, 1,1,1, 1,1,1, 1,1,1, 1,1, 1,1,1, 1,1,1, 1,0,0, 0,0,0, 0,0,0, 0,0,0, 0,0,0\n",
        "\n",
        "])\n",
        "\n",
        "\n",
        "\n",
        "'''\n",
        "Best parameters found:\n",
        " {'max_depth': 6, 'max_features': 1, 'min_samples_leaf': 1, 'min_samples_split': 3, 'n_estimators': 300}\n",
        "0.8285714285714285\n",
        "\n",
        " {'max_depth': 6, 'max_features': 1, 'min_samples_leaf': 1, 'min_samples_split': 3, 'n_estimators': 400}\n",
        "0.8285714285714285\n",
        "\n",
        "result accuracy 81\n",
        "\n",
        "'''\n",
        "for i in range(10):\n",
        "    X_train, X_test, y_train, y_test = train_test_split(X, y, train_size = 0.7,test_size = 0.3, random_state=i)\n",
        "    svclassifier = RandomForestClassifier(n_estimators=600, max_features=1, n_jobs=-1, verbose=1,max_depth=6)\n",
        "    svclassifier.fit(X_train, y_train)\n",
        "    y_pred = svclassifier.predict(X_test)\n",
        "   #print(y_pred)\n",
        "    print(\"confusion_matrix:\",  i)\n",
        "    cm1 = confusion_matrix(y_test,y_pred)\n",
        "    print(\"confusion_matrix:\",  cm1)\n",
        "    total1=sum(sum(cm1))\n",
        "    Accuracy=(cm1[0,0]+cm1[1,1])/total1\n",
        "    accuracy1 +=[Accuracy]\n",
        "    print ('Accuracy : ', Accuracy)\n",
        "    sensitivity1 = cm1[0,0]/(cm1[0,0]+cm1[0,1])\n",
        "    print('Sensitivity : ', sensitivity1 )\n",
        "    specificity1 = cm1[1,1]/(cm1[1,0]+cm1[1,1])\n",
        "    print('Specificity : ', specificity1)\n",
        "print('\\n \\n best result with 600 estimators is',max(accuracy1))"
      ]
    },
    {
      "cell_type": "code",
      "execution_count": null,
      "metadata": {
        "id": "vqpm9FznnKKy",
        "outputId": "ca6b481a-5c9d-47c3-bd5f-937787b9c3c5"
      },
      "outputs": [
        {
          "name": "stdout",
          "output_type": "stream",
          "text": [
            "[0.7272727272727273]\n"
          ]
        }
      ],
      "source": [
        ""
      ]
    },
    {
      "cell_type": "code",
      "execution_count": null,
      "metadata": {
        "id": "vVVQvj3onKK4"
      },
      "outputs": [],
      "source": [
        ""
      ]
    }
  ],
  "metadata": {
    "kernelspec": {
      "display_name": "Python 3",
      "language": "python",
      "name": "python3"
    },
    "language_info": {
      "codemirror_mode": {
        "name": "ipython",
        "version": 3
      },
      "file_extension": ".py",
      "mimetype": "text/x-python",
      "name": "python",
      "nbconvert_exporter": "python",
      "pygments_lexer": "ipython3",
      "version": "3.7.6"
    },
    "colab": {
      "name": "Random Forest.ipynb",
      "provenance": []
    }
  },
  "nbformat": 4,
  "nbformat_minor": 0
}